{
  "nbformat": 4,
  "nbformat_minor": 0,
  "metadata": {
    "colab": {
      "provenance": []
    },
    "kernelspec": {
      "name": "python3",
      "display_name": "Python 3"
    },
    "language_info": {
      "name": "python"
    }
  },
  "cells": [
    {
      "cell_type": "markdown",
      "source": [
        "# **Problem Statment**"
      ],
      "metadata": {
        "id": "Fh1ncZGEdS_i"
      }
    },
    {
      "cell_type": "markdown",
      "source": [
        "**Implement a KNN model to classify the** **animals in to categor**y\n"
      ],
      "metadata": {
        "id": "WYsq_Wy3dTFp"
      }
    },
    {
      "cell_type": "markdown",
      "source": [
        "# **Importing Libraries**"
      ],
      "metadata": {
        "id": "hwFFdyNydTia"
      }
    },
    {
      "cell_type": "code",
      "source": [
        "import pandas as pd\n",
        "import numpy as np\n",
        "import matplotlib.pyplot as plt\n",
        "import seaborn as sns\n",
        "%matplotlib inline\n",
        "from sklearn.neighbors import KNeighborsClassifier\n",
        "from sklearn.model_selection import train_test_split\n",
        "from sklearn.metrics import accuracy_score\n",
        "from sklearn.model_selection import cross_val_score\n",
        "from sklearn.model_selection import GridSearchCV\n",
        "from sklearn.preprocessing import StandardScaler"
      ],
      "metadata": {
        "id": "kRsCVS_vdv4a"
      },
      "execution_count": 1,
      "outputs": []
    },
    {
      "cell_type": "code",
      "source": [
        "import warnings\n",
        "warnings.filterwarnings('ignore')"
      ],
      "metadata": {
        "id": "WIjGcrZmdwjP"
      },
      "execution_count": 2,
      "outputs": []
    },
    {
      "cell_type": "markdown",
      "source": [
        "# **Importing Dataset**"
      ],
      "metadata": {
        "id": "g-Vbk1tIdz-R"
      }
    },
    {
      "cell_type": "code",
      "source": [
        "df=pd.read_csv('Zoo.csv')"
      ],
      "metadata": {
        "id": "qzA7VIdXdy9d"
      },
      "execution_count": 4,
      "outputs": []
    },
    {
      "cell_type": "code",
      "source": [
        "df.head()"
      ],
      "metadata": {
        "colab": {
          "base_uri": "https://localhost:8080/",
          "height": 287
        },
        "id": "pGUrDH-Fd_00",
        "outputId": "97c98431-6d6d-4096-deba-e7000c4da404"
      },
      "execution_count": 5,
      "outputs": [
        {
          "output_type": "execute_result",
          "data": {
            "text/plain": [
              "  animal name  hair  feathers  eggs  milk  airborne  aquatic  predator  \\\n",
              "0    aardvark     1         0     0     1         0        0         1   \n",
              "1    antelope     1         0     0     1         0        0         0   \n",
              "2        bass     0         0     1     0         0        1         1   \n",
              "3        bear     1         0     0     1         0        0         1   \n",
              "4        boar     1         0     0     1         0        0         1   \n",
              "\n",
              "   toothed  backbone  breathes  venomous  fins  legs  tail  domestic  catsize  \\\n",
              "0        1         1         1         0     0     4     0         0        1   \n",
              "1        1         1         1         0     0     4     1         0        1   \n",
              "2        1         1         0         0     1     0     1         0        0   \n",
              "3        1         1         1         0     0     4     0         0        1   \n",
              "4        1         1         1         0     0     4     1         0        1   \n",
              "\n",
              "   type  \n",
              "0     1  \n",
              "1     1  \n",
              "2     4  \n",
              "3     1  \n",
              "4     1  "
            ],
            "text/html": [
              "\n",
              "  <div id=\"df-3932da95-f7c6-445b-98c6-9adc309ebad1\">\n",
              "    <div class=\"colab-df-container\">\n",
              "      <div>\n",
              "<style scoped>\n",
              "    .dataframe tbody tr th:only-of-type {\n",
              "        vertical-align: middle;\n",
              "    }\n",
              "\n",
              "    .dataframe tbody tr th {\n",
              "        vertical-align: top;\n",
              "    }\n",
              "\n",
              "    .dataframe thead th {\n",
              "        text-align: right;\n",
              "    }\n",
              "</style>\n",
              "<table border=\"1\" class=\"dataframe\">\n",
              "  <thead>\n",
              "    <tr style=\"text-align: right;\">\n",
              "      <th></th>\n",
              "      <th>animal name</th>\n",
              "      <th>hair</th>\n",
              "      <th>feathers</th>\n",
              "      <th>eggs</th>\n",
              "      <th>milk</th>\n",
              "      <th>airborne</th>\n",
              "      <th>aquatic</th>\n",
              "      <th>predator</th>\n",
              "      <th>toothed</th>\n",
              "      <th>backbone</th>\n",
              "      <th>breathes</th>\n",
              "      <th>venomous</th>\n",
              "      <th>fins</th>\n",
              "      <th>legs</th>\n",
              "      <th>tail</th>\n",
              "      <th>domestic</th>\n",
              "      <th>catsize</th>\n",
              "      <th>type</th>\n",
              "    </tr>\n",
              "  </thead>\n",
              "  <tbody>\n",
              "    <tr>\n",
              "      <th>0</th>\n",
              "      <td>aardvark</td>\n",
              "      <td>1</td>\n",
              "      <td>0</td>\n",
              "      <td>0</td>\n",
              "      <td>1</td>\n",
              "      <td>0</td>\n",
              "      <td>0</td>\n",
              "      <td>1</td>\n",
              "      <td>1</td>\n",
              "      <td>1</td>\n",
              "      <td>1</td>\n",
              "      <td>0</td>\n",
              "      <td>0</td>\n",
              "      <td>4</td>\n",
              "      <td>0</td>\n",
              "      <td>0</td>\n",
              "      <td>1</td>\n",
              "      <td>1</td>\n",
              "    </tr>\n",
              "    <tr>\n",
              "      <th>1</th>\n",
              "      <td>antelope</td>\n",
              "      <td>1</td>\n",
              "      <td>0</td>\n",
              "      <td>0</td>\n",
              "      <td>1</td>\n",
              "      <td>0</td>\n",
              "      <td>0</td>\n",
              "      <td>0</td>\n",
              "      <td>1</td>\n",
              "      <td>1</td>\n",
              "      <td>1</td>\n",
              "      <td>0</td>\n",
              "      <td>0</td>\n",
              "      <td>4</td>\n",
              "      <td>1</td>\n",
              "      <td>0</td>\n",
              "      <td>1</td>\n",
              "      <td>1</td>\n",
              "    </tr>\n",
              "    <tr>\n",
              "      <th>2</th>\n",
              "      <td>bass</td>\n",
              "      <td>0</td>\n",
              "      <td>0</td>\n",
              "      <td>1</td>\n",
              "      <td>0</td>\n",
              "      <td>0</td>\n",
              "      <td>1</td>\n",
              "      <td>1</td>\n",
              "      <td>1</td>\n",
              "      <td>1</td>\n",
              "      <td>0</td>\n",
              "      <td>0</td>\n",
              "      <td>1</td>\n",
              "      <td>0</td>\n",
              "      <td>1</td>\n",
              "      <td>0</td>\n",
              "      <td>0</td>\n",
              "      <td>4</td>\n",
              "    </tr>\n",
              "    <tr>\n",
              "      <th>3</th>\n",
              "      <td>bear</td>\n",
              "      <td>1</td>\n",
              "      <td>0</td>\n",
              "      <td>0</td>\n",
              "      <td>1</td>\n",
              "      <td>0</td>\n",
              "      <td>0</td>\n",
              "      <td>1</td>\n",
              "      <td>1</td>\n",
              "      <td>1</td>\n",
              "      <td>1</td>\n",
              "      <td>0</td>\n",
              "      <td>0</td>\n",
              "      <td>4</td>\n",
              "      <td>0</td>\n",
              "      <td>0</td>\n",
              "      <td>1</td>\n",
              "      <td>1</td>\n",
              "    </tr>\n",
              "    <tr>\n",
              "      <th>4</th>\n",
              "      <td>boar</td>\n",
              "      <td>1</td>\n",
              "      <td>0</td>\n",
              "      <td>0</td>\n",
              "      <td>1</td>\n",
              "      <td>0</td>\n",
              "      <td>0</td>\n",
              "      <td>1</td>\n",
              "      <td>1</td>\n",
              "      <td>1</td>\n",
              "      <td>1</td>\n",
              "      <td>0</td>\n",
              "      <td>0</td>\n",
              "      <td>4</td>\n",
              "      <td>1</td>\n",
              "      <td>0</td>\n",
              "      <td>1</td>\n",
              "      <td>1</td>\n",
              "    </tr>\n",
              "  </tbody>\n",
              "</table>\n",
              "</div>\n",
              "      <button class=\"colab-df-convert\" onclick=\"convertToInteractive('df-3932da95-f7c6-445b-98c6-9adc309ebad1')\"\n",
              "              title=\"Convert this dataframe to an interactive table.\"\n",
              "              style=\"display:none;\">\n",
              "        \n",
              "  <svg xmlns=\"http://www.w3.org/2000/svg\" height=\"24px\"viewBox=\"0 0 24 24\"\n",
              "       width=\"24px\">\n",
              "    <path d=\"M0 0h24v24H0V0z\" fill=\"none\"/>\n",
              "    <path d=\"M18.56 5.44l.94 2.06.94-2.06 2.06-.94-2.06-.94-.94-2.06-.94 2.06-2.06.94zm-11 1L8.5 8.5l.94-2.06 2.06-.94-2.06-.94L8.5 2.5l-.94 2.06-2.06.94zm10 10l.94 2.06.94-2.06 2.06-.94-2.06-.94-.94-2.06-.94 2.06-2.06.94z\"/><path d=\"M17.41 7.96l-1.37-1.37c-.4-.4-.92-.59-1.43-.59-.52 0-1.04.2-1.43.59L10.3 9.45l-7.72 7.72c-.78.78-.78 2.05 0 2.83L4 21.41c.39.39.9.59 1.41.59.51 0 1.02-.2 1.41-.59l7.78-7.78 2.81-2.81c.8-.78.8-2.07 0-2.86zM5.41 20L4 18.59l7.72-7.72 1.47 1.35L5.41 20z\"/>\n",
              "  </svg>\n",
              "      </button>\n",
              "      \n",
              "  <style>\n",
              "    .colab-df-container {\n",
              "      display:flex;\n",
              "      flex-wrap:wrap;\n",
              "      gap: 12px;\n",
              "    }\n",
              "\n",
              "    .colab-df-convert {\n",
              "      background-color: #E8F0FE;\n",
              "      border: none;\n",
              "      border-radius: 50%;\n",
              "      cursor: pointer;\n",
              "      display: none;\n",
              "      fill: #1967D2;\n",
              "      height: 32px;\n",
              "      padding: 0 0 0 0;\n",
              "      width: 32px;\n",
              "    }\n",
              "\n",
              "    .colab-df-convert:hover {\n",
              "      background-color: #E2EBFA;\n",
              "      box-shadow: 0px 1px 2px rgba(60, 64, 67, 0.3), 0px 1px 3px 1px rgba(60, 64, 67, 0.15);\n",
              "      fill: #174EA6;\n",
              "    }\n",
              "\n",
              "    [theme=dark] .colab-df-convert {\n",
              "      background-color: #3B4455;\n",
              "      fill: #D2E3FC;\n",
              "    }\n",
              "\n",
              "    [theme=dark] .colab-df-convert:hover {\n",
              "      background-color: #434B5C;\n",
              "      box-shadow: 0px 1px 3px 1px rgba(0, 0, 0, 0.15);\n",
              "      filter: drop-shadow(0px 1px 2px rgba(0, 0, 0, 0.3));\n",
              "      fill: #FFFFFF;\n",
              "    }\n",
              "  </style>\n",
              "\n",
              "      <script>\n",
              "        const buttonEl =\n",
              "          document.querySelector('#df-3932da95-f7c6-445b-98c6-9adc309ebad1 button.colab-df-convert');\n",
              "        buttonEl.style.display =\n",
              "          google.colab.kernel.accessAllowed ? 'block' : 'none';\n",
              "\n",
              "        async function convertToInteractive(key) {\n",
              "          const element = document.querySelector('#df-3932da95-f7c6-445b-98c6-9adc309ebad1');\n",
              "          const dataTable =\n",
              "            await google.colab.kernel.invokeFunction('convertToInteractive',\n",
              "                                                     [key], {});\n",
              "          if (!dataTable) return;\n",
              "\n",
              "          const docLinkHtml = 'Like what you see? Visit the ' +\n",
              "            '<a target=\"_blank\" href=https://colab.research.google.com/notebooks/data_table.ipynb>data table notebook</a>'\n",
              "            + ' to learn more about interactive tables.';\n",
              "          element.innerHTML = '';\n",
              "          dataTable['output_type'] = 'display_data';\n",
              "          await google.colab.output.renderOutput(dataTable, element);\n",
              "          const docLink = document.createElement('div');\n",
              "          docLink.innerHTML = docLinkHtml;\n",
              "          element.appendChild(docLink);\n",
              "        }\n",
              "      </script>\n",
              "    </div>\n",
              "  </div>\n",
              "  "
            ]
          },
          "metadata": {},
          "execution_count": 5
        }
      ]
    },
    {
      "cell_type": "code",
      "source": [
        "df.shape"
      ],
      "metadata": {
        "colab": {
          "base_uri": "https://localhost:8080/"
        },
        "id": "LyDJnLOFeEMe",
        "outputId": "c1803f48-073f-4a84-feaf-f965c5f6e776"
      },
      "execution_count": 6,
      "outputs": [
        {
          "output_type": "execute_result",
          "data": {
            "text/plain": [
              "(101, 18)"
            ]
          },
          "metadata": {},
          "execution_count": 6
        }
      ]
    },
    {
      "cell_type": "markdown",
      "source": [
        "# **Performing EDA**"
      ],
      "metadata": {
        "id": "yns9-GZpePiC"
      }
    },
    {
      "cell_type": "code",
      "source": [
        "df.info()"
      ],
      "metadata": {
        "colab": {
          "base_uri": "https://localhost:8080/"
        },
        "id": "UOFRfrPteOh6",
        "outputId": "7328bd90-c142-449a-bfbc-cff572092d80"
      },
      "execution_count": 7,
      "outputs": [
        {
          "output_type": "stream",
          "name": "stdout",
          "text": [
            "<class 'pandas.core.frame.DataFrame'>\n",
            "RangeIndex: 101 entries, 0 to 100\n",
            "Data columns (total 18 columns):\n",
            " #   Column       Non-Null Count  Dtype \n",
            "---  ------       --------------  ----- \n",
            " 0   animal name  101 non-null    object\n",
            " 1   hair         101 non-null    int64 \n",
            " 2   feathers     101 non-null    int64 \n",
            " 3   eggs         101 non-null    int64 \n",
            " 4   milk         101 non-null    int64 \n",
            " 5   airborne     101 non-null    int64 \n",
            " 6   aquatic      101 non-null    int64 \n",
            " 7   predator     101 non-null    int64 \n",
            " 8   toothed      101 non-null    int64 \n",
            " 9   backbone     101 non-null    int64 \n",
            " 10  breathes     101 non-null    int64 \n",
            " 11  venomous     101 non-null    int64 \n",
            " 12  fins         101 non-null    int64 \n",
            " 13  legs         101 non-null    int64 \n",
            " 14  tail         101 non-null    int64 \n",
            " 15  domestic     101 non-null    int64 \n",
            " 16  catsize      101 non-null    int64 \n",
            " 17  type         101 non-null    int64 \n",
            "dtypes: int64(17), object(1)\n",
            "memory usage: 14.3+ KB\n"
          ]
        }
      ]
    },
    {
      "cell_type": "code",
      "source": [
        "df.isnull().sum()"
      ],
      "metadata": {
        "colab": {
          "base_uri": "https://localhost:8080/"
        },
        "id": "-eQm0BNCeYIo",
        "outputId": "026ce09b-93c9-40c8-fa6b-97d739055562"
      },
      "execution_count": 9,
      "outputs": [
        {
          "output_type": "execute_result",
          "data": {
            "text/plain": [
              "animal name    0\n",
              "hair           0\n",
              "feathers       0\n",
              "eggs           0\n",
              "milk           0\n",
              "airborne       0\n",
              "aquatic        0\n",
              "predator       0\n",
              "toothed        0\n",
              "backbone       0\n",
              "breathes       0\n",
              "venomous       0\n",
              "fins           0\n",
              "legs           0\n",
              "tail           0\n",
              "domestic       0\n",
              "catsize        0\n",
              "type           0\n",
              "dtype: int64"
            ]
          },
          "metadata": {},
          "execution_count": 9
        }
      ]
    },
    {
      "cell_type": "markdown",
      "source": [
        "**AS we can see above there are no null values in our dataset.**"
      ],
      "metadata": {
        "id": "yqRIBmLFefHZ"
      }
    },
    {
      "cell_type": "code",
      "source": [
        "df.describe().T"
      ],
      "metadata": {
        "colab": {
          "base_uri": "https://localhost:8080/",
          "height": 582
        },
        "id": "CM2BGmK9eblD",
        "outputId": "21a6e6a9-3377-4d64-e74c-8010a961b6f8"
      },
      "execution_count": 10,
      "outputs": [
        {
          "output_type": "execute_result",
          "data": {
            "text/plain": [
              "          count      mean       std  min  25%  50%  75%  max\n",
              "hair      101.0  0.425743  0.496921  0.0  0.0  0.0  1.0  1.0\n",
              "feathers  101.0  0.198020  0.400495  0.0  0.0  0.0  0.0  1.0\n",
              "eggs      101.0  0.584158  0.495325  0.0  0.0  1.0  1.0  1.0\n",
              "milk      101.0  0.405941  0.493522  0.0  0.0  0.0  1.0  1.0\n",
              "airborne  101.0  0.237624  0.427750  0.0  0.0  0.0  0.0  1.0\n",
              "aquatic   101.0  0.356436  0.481335  0.0  0.0  0.0  1.0  1.0\n",
              "predator  101.0  0.554455  0.499505  0.0  0.0  1.0  1.0  1.0\n",
              "toothed   101.0  0.603960  0.491512  0.0  0.0  1.0  1.0  1.0\n",
              "backbone  101.0  0.821782  0.384605  0.0  1.0  1.0  1.0  1.0\n",
              "breathes  101.0  0.792079  0.407844  0.0  1.0  1.0  1.0  1.0\n",
              "venomous  101.0  0.079208  0.271410  0.0  0.0  0.0  0.0  1.0\n",
              "fins      101.0  0.168317  0.376013  0.0  0.0  0.0  0.0  1.0\n",
              "legs      101.0  2.841584  2.033385  0.0  2.0  4.0  4.0  8.0\n",
              "tail      101.0  0.742574  0.439397  0.0  0.0  1.0  1.0  1.0\n",
              "domestic  101.0  0.128713  0.336552  0.0  0.0  0.0  0.0  1.0\n",
              "catsize   101.0  0.435644  0.498314  0.0  0.0  0.0  1.0  1.0\n",
              "type      101.0  2.831683  2.102709  1.0  1.0  2.0  4.0  7.0"
            ],
            "text/html": [
              "\n",
              "  <div id=\"df-60d38024-1a36-42a3-a2c7-299565237547\">\n",
              "    <div class=\"colab-df-container\">\n",
              "      <div>\n",
              "<style scoped>\n",
              "    .dataframe tbody tr th:only-of-type {\n",
              "        vertical-align: middle;\n",
              "    }\n",
              "\n",
              "    .dataframe tbody tr th {\n",
              "        vertical-align: top;\n",
              "    }\n",
              "\n",
              "    .dataframe thead th {\n",
              "        text-align: right;\n",
              "    }\n",
              "</style>\n",
              "<table border=\"1\" class=\"dataframe\">\n",
              "  <thead>\n",
              "    <tr style=\"text-align: right;\">\n",
              "      <th></th>\n",
              "      <th>count</th>\n",
              "      <th>mean</th>\n",
              "      <th>std</th>\n",
              "      <th>min</th>\n",
              "      <th>25%</th>\n",
              "      <th>50%</th>\n",
              "      <th>75%</th>\n",
              "      <th>max</th>\n",
              "    </tr>\n",
              "  </thead>\n",
              "  <tbody>\n",
              "    <tr>\n",
              "      <th>hair</th>\n",
              "      <td>101.0</td>\n",
              "      <td>0.425743</td>\n",
              "      <td>0.496921</td>\n",
              "      <td>0.0</td>\n",
              "      <td>0.0</td>\n",
              "      <td>0.0</td>\n",
              "      <td>1.0</td>\n",
              "      <td>1.0</td>\n",
              "    </tr>\n",
              "    <tr>\n",
              "      <th>feathers</th>\n",
              "      <td>101.0</td>\n",
              "      <td>0.198020</td>\n",
              "      <td>0.400495</td>\n",
              "      <td>0.0</td>\n",
              "      <td>0.0</td>\n",
              "      <td>0.0</td>\n",
              "      <td>0.0</td>\n",
              "      <td>1.0</td>\n",
              "    </tr>\n",
              "    <tr>\n",
              "      <th>eggs</th>\n",
              "      <td>101.0</td>\n",
              "      <td>0.584158</td>\n",
              "      <td>0.495325</td>\n",
              "      <td>0.0</td>\n",
              "      <td>0.0</td>\n",
              "      <td>1.0</td>\n",
              "      <td>1.0</td>\n",
              "      <td>1.0</td>\n",
              "    </tr>\n",
              "    <tr>\n",
              "      <th>milk</th>\n",
              "      <td>101.0</td>\n",
              "      <td>0.405941</td>\n",
              "      <td>0.493522</td>\n",
              "      <td>0.0</td>\n",
              "      <td>0.0</td>\n",
              "      <td>0.0</td>\n",
              "      <td>1.0</td>\n",
              "      <td>1.0</td>\n",
              "    </tr>\n",
              "    <tr>\n",
              "      <th>airborne</th>\n",
              "      <td>101.0</td>\n",
              "      <td>0.237624</td>\n",
              "      <td>0.427750</td>\n",
              "      <td>0.0</td>\n",
              "      <td>0.0</td>\n",
              "      <td>0.0</td>\n",
              "      <td>0.0</td>\n",
              "      <td>1.0</td>\n",
              "    </tr>\n",
              "    <tr>\n",
              "      <th>aquatic</th>\n",
              "      <td>101.0</td>\n",
              "      <td>0.356436</td>\n",
              "      <td>0.481335</td>\n",
              "      <td>0.0</td>\n",
              "      <td>0.0</td>\n",
              "      <td>0.0</td>\n",
              "      <td>1.0</td>\n",
              "      <td>1.0</td>\n",
              "    </tr>\n",
              "    <tr>\n",
              "      <th>predator</th>\n",
              "      <td>101.0</td>\n",
              "      <td>0.554455</td>\n",
              "      <td>0.499505</td>\n",
              "      <td>0.0</td>\n",
              "      <td>0.0</td>\n",
              "      <td>1.0</td>\n",
              "      <td>1.0</td>\n",
              "      <td>1.0</td>\n",
              "    </tr>\n",
              "    <tr>\n",
              "      <th>toothed</th>\n",
              "      <td>101.0</td>\n",
              "      <td>0.603960</td>\n",
              "      <td>0.491512</td>\n",
              "      <td>0.0</td>\n",
              "      <td>0.0</td>\n",
              "      <td>1.0</td>\n",
              "      <td>1.0</td>\n",
              "      <td>1.0</td>\n",
              "    </tr>\n",
              "    <tr>\n",
              "      <th>backbone</th>\n",
              "      <td>101.0</td>\n",
              "      <td>0.821782</td>\n",
              "      <td>0.384605</td>\n",
              "      <td>0.0</td>\n",
              "      <td>1.0</td>\n",
              "      <td>1.0</td>\n",
              "      <td>1.0</td>\n",
              "      <td>1.0</td>\n",
              "    </tr>\n",
              "    <tr>\n",
              "      <th>breathes</th>\n",
              "      <td>101.0</td>\n",
              "      <td>0.792079</td>\n",
              "      <td>0.407844</td>\n",
              "      <td>0.0</td>\n",
              "      <td>1.0</td>\n",
              "      <td>1.0</td>\n",
              "      <td>1.0</td>\n",
              "      <td>1.0</td>\n",
              "    </tr>\n",
              "    <tr>\n",
              "      <th>venomous</th>\n",
              "      <td>101.0</td>\n",
              "      <td>0.079208</td>\n",
              "      <td>0.271410</td>\n",
              "      <td>0.0</td>\n",
              "      <td>0.0</td>\n",
              "      <td>0.0</td>\n",
              "      <td>0.0</td>\n",
              "      <td>1.0</td>\n",
              "    </tr>\n",
              "    <tr>\n",
              "      <th>fins</th>\n",
              "      <td>101.0</td>\n",
              "      <td>0.168317</td>\n",
              "      <td>0.376013</td>\n",
              "      <td>0.0</td>\n",
              "      <td>0.0</td>\n",
              "      <td>0.0</td>\n",
              "      <td>0.0</td>\n",
              "      <td>1.0</td>\n",
              "    </tr>\n",
              "    <tr>\n",
              "      <th>legs</th>\n",
              "      <td>101.0</td>\n",
              "      <td>2.841584</td>\n",
              "      <td>2.033385</td>\n",
              "      <td>0.0</td>\n",
              "      <td>2.0</td>\n",
              "      <td>4.0</td>\n",
              "      <td>4.0</td>\n",
              "      <td>8.0</td>\n",
              "    </tr>\n",
              "    <tr>\n",
              "      <th>tail</th>\n",
              "      <td>101.0</td>\n",
              "      <td>0.742574</td>\n",
              "      <td>0.439397</td>\n",
              "      <td>0.0</td>\n",
              "      <td>0.0</td>\n",
              "      <td>1.0</td>\n",
              "      <td>1.0</td>\n",
              "      <td>1.0</td>\n",
              "    </tr>\n",
              "    <tr>\n",
              "      <th>domestic</th>\n",
              "      <td>101.0</td>\n",
              "      <td>0.128713</td>\n",
              "      <td>0.336552</td>\n",
              "      <td>0.0</td>\n",
              "      <td>0.0</td>\n",
              "      <td>0.0</td>\n",
              "      <td>0.0</td>\n",
              "      <td>1.0</td>\n",
              "    </tr>\n",
              "    <tr>\n",
              "      <th>catsize</th>\n",
              "      <td>101.0</td>\n",
              "      <td>0.435644</td>\n",
              "      <td>0.498314</td>\n",
              "      <td>0.0</td>\n",
              "      <td>0.0</td>\n",
              "      <td>0.0</td>\n",
              "      <td>1.0</td>\n",
              "      <td>1.0</td>\n",
              "    </tr>\n",
              "    <tr>\n",
              "      <th>type</th>\n",
              "      <td>101.0</td>\n",
              "      <td>2.831683</td>\n",
              "      <td>2.102709</td>\n",
              "      <td>1.0</td>\n",
              "      <td>1.0</td>\n",
              "      <td>2.0</td>\n",
              "      <td>4.0</td>\n",
              "      <td>7.0</td>\n",
              "    </tr>\n",
              "  </tbody>\n",
              "</table>\n",
              "</div>\n",
              "      <button class=\"colab-df-convert\" onclick=\"convertToInteractive('df-60d38024-1a36-42a3-a2c7-299565237547')\"\n",
              "              title=\"Convert this dataframe to an interactive table.\"\n",
              "              style=\"display:none;\">\n",
              "        \n",
              "  <svg xmlns=\"http://www.w3.org/2000/svg\" height=\"24px\"viewBox=\"0 0 24 24\"\n",
              "       width=\"24px\">\n",
              "    <path d=\"M0 0h24v24H0V0z\" fill=\"none\"/>\n",
              "    <path d=\"M18.56 5.44l.94 2.06.94-2.06 2.06-.94-2.06-.94-.94-2.06-.94 2.06-2.06.94zm-11 1L8.5 8.5l.94-2.06 2.06-.94-2.06-.94L8.5 2.5l-.94 2.06-2.06.94zm10 10l.94 2.06.94-2.06 2.06-.94-2.06-.94-.94-2.06-.94 2.06-2.06.94z\"/><path d=\"M17.41 7.96l-1.37-1.37c-.4-.4-.92-.59-1.43-.59-.52 0-1.04.2-1.43.59L10.3 9.45l-7.72 7.72c-.78.78-.78 2.05 0 2.83L4 21.41c.39.39.9.59 1.41.59.51 0 1.02-.2 1.41-.59l7.78-7.78 2.81-2.81c.8-.78.8-2.07 0-2.86zM5.41 20L4 18.59l7.72-7.72 1.47 1.35L5.41 20z\"/>\n",
              "  </svg>\n",
              "      </button>\n",
              "      \n",
              "  <style>\n",
              "    .colab-df-container {\n",
              "      display:flex;\n",
              "      flex-wrap:wrap;\n",
              "      gap: 12px;\n",
              "    }\n",
              "\n",
              "    .colab-df-convert {\n",
              "      background-color: #E8F0FE;\n",
              "      border: none;\n",
              "      border-radius: 50%;\n",
              "      cursor: pointer;\n",
              "      display: none;\n",
              "      fill: #1967D2;\n",
              "      height: 32px;\n",
              "      padding: 0 0 0 0;\n",
              "      width: 32px;\n",
              "    }\n",
              "\n",
              "    .colab-df-convert:hover {\n",
              "      background-color: #E2EBFA;\n",
              "      box-shadow: 0px 1px 2px rgba(60, 64, 67, 0.3), 0px 1px 3px 1px rgba(60, 64, 67, 0.15);\n",
              "      fill: #174EA6;\n",
              "    }\n",
              "\n",
              "    [theme=dark] .colab-df-convert {\n",
              "      background-color: #3B4455;\n",
              "      fill: #D2E3FC;\n",
              "    }\n",
              "\n",
              "    [theme=dark] .colab-df-convert:hover {\n",
              "      background-color: #434B5C;\n",
              "      box-shadow: 0px 1px 3px 1px rgba(0, 0, 0, 0.15);\n",
              "      filter: drop-shadow(0px 1px 2px rgba(0, 0, 0, 0.3));\n",
              "      fill: #FFFFFF;\n",
              "    }\n",
              "  </style>\n",
              "\n",
              "      <script>\n",
              "        const buttonEl =\n",
              "          document.querySelector('#df-60d38024-1a36-42a3-a2c7-299565237547 button.colab-df-convert');\n",
              "        buttonEl.style.display =\n",
              "          google.colab.kernel.accessAllowed ? 'block' : 'none';\n",
              "\n",
              "        async function convertToInteractive(key) {\n",
              "          const element = document.querySelector('#df-60d38024-1a36-42a3-a2c7-299565237547');\n",
              "          const dataTable =\n",
              "            await google.colab.kernel.invokeFunction('convertToInteractive',\n",
              "                                                     [key], {});\n",
              "          if (!dataTable) return;\n",
              "\n",
              "          const docLinkHtml = 'Like what you see? Visit the ' +\n",
              "            '<a target=\"_blank\" href=https://colab.research.google.com/notebooks/data_table.ipynb>data table notebook</a>'\n",
              "            + ' to learn more about interactive tables.';\n",
              "          element.innerHTML = '';\n",
              "          dataTable['output_type'] = 'display_data';\n",
              "          await google.colab.output.renderOutput(dataTable, element);\n",
              "          const docLink = document.createElement('div');\n",
              "          docLink.innerHTML = docLinkHtml;\n",
              "          element.appendChild(docLink);\n",
              "        }\n",
              "      </script>\n",
              "    </div>\n",
              "  </div>\n",
              "  "
            ]
          },
          "metadata": {},
          "execution_count": 10
        }
      ]
    },
    {
      "cell_type": "markdown",
      "source": [
        "**From this we can see that all of the animal characteristics or feature values are given as binary values (1- present / 0-absent) except for the legs where it is given as a count of legs.**"
      ],
      "metadata": {
        "id": "lX0Hyg40f1KI"
      }
    },
    {
      "cell_type": "code",
      "source": [
        "sns.countplot(x ='type', data = df)\n",
        ""
      ],
      "metadata": {
        "colab": {
          "base_uri": "https://localhost:8080/",
          "height": 466
        },
        "id": "FyZc8TNueocD",
        "outputId": "0e80a22e-4414-4ebe-d7f7-26a604dc97c1"
      },
      "execution_count": 14,
      "outputs": [
        {
          "output_type": "execute_result",
          "data": {
            "text/plain": [
              "<Axes: xlabel='type', ylabel='count'>"
            ]
          },
          "metadata": {},
          "execution_count": 14
        },
        {
          "output_type": "display_data",
          "data": {
            "text/plain": [
              "<Figure size 640x480 with 1 Axes>"
            ],
            "image/png": "[encoded data removed]"
          },
          "metadata": {}
        }
      ]
    },
    {
      "cell_type": "markdown",
      "source": [
        "**As shown in the graph the highest number of animals available in zoo are type 1 followed by 2,4 and 7 respectively.**"
      ],
      "metadata": {
        "id": "T8pCbj7AgVfE"
      }
    },
    {
      "cell_type": "code",
      "source": [
        "df.plot(kind='box', subplots=True, layout=(4,5), figsize=(13,20), sharex=False, sharey=False)\n",
        "plt.show()"
      ],
      "metadata": {
        "colab": {
          "base_uri": "https://localhost:8080/",
          "height": 1000
        },
        "id": "0306OZsEgHrB",
        "outputId": "cc6bc733-1097-4ad4-bcf5-4ead0c29b359"
      },
      "execution_count": 15,
      "outputs": [
        {
          "output_type": "display_data",
          "data": {
            "text/plain": [
              "<Figure size 1300x2000 with 20 Axes>"
            ],
            "image/png": "[encoded data removed]"
          },
          "metadata": {}
        }
      ]
    },
    {
      "cell_type": "markdown",
      "source": [
        "**As shown in the graphs above, majority of the variables are evenly distributed amongst the animals. However some of the variables like airbone, backbone, breathes, venomous, fins, tail and domestic is not evenly distributed (i.e majority of animals either have these variable or dont)**"
      ],
      "metadata": {
        "id": "8vknrUu2gvV-"
      }
    },
    {
      "cell_type": "markdown",
      "source": [
        "**Now let's find the correlation between the features in the dataset**"
      ],
      "metadata": {
        "id": "T80tW0yZg2l9"
      }
    },
    {
      "cell_type": "code",
      "source": [
        "cor = df.corr(method='pearson')\n",
        "cor.style.background_gradient(cmap='coolwarm')"
      ],
      "metadata": {
        "colab": {
          "base_uri": "https://localhost:8080/",
          "height": 602
        },
        "id": "Q9EnCYBtgpo5",
        "outputId": "2278fc44-4c1e-460d-9d22-be4795b26032"
      },
      "execution_count": 16,
      "outputs": [
        {
          "output_type": "execute_result",
          "data": {
            "text/plain": [
              "<pandas.io.formats.style.Styler at 0x7fcafe927d30>"
            ],
            "text/html": [
              "<style type=\"text/css\">\n",
              "#T_5b3b3_row0_col0, #T_5b3b3_row1_col1, #T_5b3b3_row2_col2, #T_5b3b3_row3_col3, #T_5b3b3_row4_col4, #T_5b3b3_row5_col5, #T_5b3b3_row6_col6, #T_5b3b3_row7_col7, #T_5b3b3_row8_col8, #T_5b3b3_row9_col9, #T_5b3b3_row10_col10, #T_5b3b3_row11_col11, #T_5b3b3_row12_col12, #T_5b3b3_row13_col13, #T_5b3b3_row14_col14, #T_5b3b3_row15_col15, #T_5b3b3_row16_col16 {\n",
              "  background-color: #b40426;\n",
              "  color: #f1f1f1;\n",
              "}\n",
              "#T_5b3b3_row0_col1, #T_5b3b3_row0_col10 {\n",
              "  background-color: #5e7de7;\n",
              "  color: #f1f1f1;\n",
              "}\n",
              "#T_5b3b3_row0_col2, #T_5b3b3_row5_col14 {\n",
              "  background-color: #4e68d8;\n",
              "  color: #f1f1f1;\n",
              "}\n",
              "#T_5b3b3_row0_col3 {\n",
              "  background-color: #cb3e38;\n",
              "  color: #f1f1f1;\n",
              "}\n",
              "#T_5b3b3_row0_col4, #T_5b3b3_row1_col12 {\n",
              "  background-color: #8caffe;\n",
              "  color: #000000;\n",
              "}\n",
              "#T_5b3b3_row0_col5, #T_5b3b3_row9_col10, #T_5b3b3_row16_col14 {\n",
              "  background-color: #5977e3;\n",
              "  color: #f1f1f1;\n",
              "}\n",
              "#T_5b3b3_row0_col6, #T_5b3b3_row2_col14 {\n",
              "  background-color: #5f7fe8;\n",
              "  color: #f1f1f1;\n",
              "}\n",
              "#T_5b3b3_row0_col7 {\n",
              "  background-color: #f7b093;\n",
              "  color: #000000;\n",
              "}\n",
              "#T_5b3b3_row0_col8, #T_5b3b3_row8_col0 {\n",
              "  background-color: #ead4c8;\n",
              "  color: #000000;\n",
              "}\n",
              "#T_5b3b3_row0_col9 {\n",
              "  background-color: #f7ba9f;\n",
              "  color: #000000;\n",
              "}\n",
              "#T_5b3b3_row0_col11 {\n",
              "  background-color: #7ea1fa;\n",
              "  color: #f1f1f1;\n",
              "}\n",
              "#T_5b3b3_row0_col12 {\n",
              "  background-color: #f4c5ad;\n",
              "  color: #000000;\n",
              "}\n",
              "#T_5b3b3_row0_col13 {\n",
              "  background-color: #c5d6f2;\n",
              "  color: #000000;\n",
              "}\n",
              "#T_5b3b3_row0_col14, #T_5b3b3_row4_col8 {\n",
              "  background-color: #bfd3f6;\n",
              "  color: #000000;\n",
              "}\n",
              "#T_5b3b3_row0_col15 {\n",
              "  background-color: #f6bfa6;\n",
              "  color: #000000;\n",
              "}\n",
              "#T_5b3b3_row0_col16, #T_5b3b3_row7_col10 {\n",
              "  background-color: #688aef;\n",
              "  color: #f1f1f1;\n",
              "}\n",
              "#T_5b3b3_row1_col0, #T_5b3b3_row3_col6 {\n",
              "  background-color: #80a3fa;\n",
              "  color: #f1f1f1;\n",
              "}\n",
              "#T_5b3b3_row1_col2, #T_5b3b3_row9_col3, #T_5b3b3_row15_col0 {\n",
              "  background-color: #f7ac8e;\n",
              "  color: #000000;\n",
              "}\n",
              "#T_5b3b3_row1_col3, #T_5b3b3_row12_col7 {\n",
              "  background-color: #94b6ff;\n",
              "  color: #000000;\n",
              "}\n",
              "#T_5b3b3_row1_col4 {\n",
              "  background-color: #f08b6e;\n",
              "  color: #f1f1f1;\n",
              "}\n",
              "#T_5b3b3_row1_col5, #T_5b3b3_row10_col7, #T_5b3b3_row14_col16 {\n",
              "  background-color: #b1cbfc;\n",
              "  color: #000000;\n",
              "}\n",
              "#T_5b3b3_row1_col6 {\n",
              "  background-color: #6c8ff1;\n",
              "  color: #f1f1f1;\n",
              "}\n",
              "#T_5b3b3_row1_col7 {\n",
              "  background-color: #3f53c6;\n",
              "  color: #f1f1f1;\n",
              "}\n",
              "#T_5b3b3_row1_col8, #T_5b3b3_row13_col7 {\n",
              "  background-color: #efcfbf;\n",
              "  color: #000000;\n",
              "}\n",
              "#T_5b3b3_row1_col9 {\n",
              "  background-color: #e8d6cc;\n",
              "  color: #000000;\n",
              "}\n",
              "#T_5b3b3_row1_col10 {\n",
              "  background-color: #536edd;\n",
              "  color: #f1f1f1;\n",
              "}\n",
              "#T_5b3b3_row1_col11, #T_5b3b3_row2_col6 {\n",
              "  background-color: #8badfd;\n",
              "  color: #000000;\n",
              "}\n",
              "#T_5b3b3_row1_col13, #T_5b3b3_row7_col15, #T_5b3b3_row9_col8, #T_5b3b3_row11_col2, #T_5b3b3_row11_col8, #T_5b3b3_row14_col3 {\n",
              "  background-color: #edd2c3;\n",
              "  color: #000000;\n",
              "}\n",
              "#T_5b3b3_row1_col14, #T_5b3b3_row16_col1 {\n",
              "  background-color: #90b2fe;\n",
              "  color: #000000;\n",
              "}\n",
              "#T_5b3b3_row1_col15, #T_5b3b3_row2_col13, #T_5b3b3_row12_col1, #T_5b3b3_row13_col6, #T_5b3b3_row14_col5, #T_5b3b3_row15_col14 {\n",
              "  background-color: #8db0fe;\n",
              "  color: #000000;\n",
              "}\n",
              "#T_5b3b3_row1_col16, #T_5b3b3_row5_col1, #T_5b3b3_row15_col6 {\n",
              "  background-color: #aec9fc;\n",
              "  color: #000000;\n",
              "}\n",
              "#T_5b3b3_row2_col0, #T_5b3b3_row2_col3, #T_5b3b3_row2_col7, #T_5b3b3_row3_col2, #T_5b3b3_row3_col10, #T_5b3b3_row5_col9, #T_5b3b3_row6_col14, #T_5b3b3_row7_col1, #T_5b3b3_row7_col4, #T_5b3b3_row8_col10, #T_5b3b3_row8_col16, #T_5b3b3_row9_col5, #T_5b3b3_row9_col11, #T_5b3b3_row11_col12, #T_5b3b3_row14_col6, #T_5b3b3_row16_col8, #T_5b3b3_row16_col13, #T_5b3b3_row16_col15 {\n",
              "  background-color: #3b4cc0;\n",
              "  color: #f1f1f1;\n",
              "}\n",
              "#T_5b3b3_row2_col1 {\n",
              "  background-color: #f5c0a7;\n",
              "  color: #000000;\n",
              "}\n",
              "#T_5b3b3_row2_col4, #T_5b3b3_row7_col11, #T_5b3b3_row9_col12 {\n",
              "  background-color: #f2c9b4;\n",
              "  color: #000000;\n",
              "}\n",
              "#T_5b3b3_row2_col5, #T_5b3b3_row6_col5 {\n",
              "  background-color: #f4c6af;\n",
              "  color: #000000;\n",
              "}\n",
              "#T_5b3b3_row2_col8, #T_5b3b3_row5_col10, #T_5b3b3_row5_col15 {\n",
              "  background-color: #93b5fe;\n",
              "  color: #000000;\n",
              "}\n",
              "#T_5b3b3_row2_col9, #T_5b3b3_row5_col12, #T_5b3b3_row7_col2, #T_5b3b3_row15_col4 {\n",
              "  background-color: #6b8df0;\n",
              "  color: #f1f1f1;\n",
              "}\n",
              "#T_5b3b3_row2_col10, #T_5b3b3_row8_col6 {\n",
              "  background-color: #96b7ff;\n",
              "  color: #000000;\n",
              "}\n",
              "#T_5b3b3_row2_col11, #T_5b3b3_row6_col8 {\n",
              "  background-color: #d8dce2;\n",
              "  color: #000000;\n",
              "}\n",
              "#T_5b3b3_row2_col12 {\n",
              "  background-color: #88abfd;\n",
              "  color: #000000;\n",
              "}\n",
              "#T_5b3b3_row2_col15, #T_5b3b3_row12_col11 {\n",
              "  background-color: #3c4ec2;\n",
              "  color: #f1f1f1;\n",
              "}\n",
              "#T_5b3b3_row2_col16 {\n",
              "  background-color: #eb7d62;\n",
              "  color: #f1f1f1;\n",
              "}\n",
              "#T_5b3b3_row3_col0 {\n",
              "  background-color: #cc403a;\n",
              "  color: #f1f1f1;\n",
              "}\n",
              "#T_5b3b3_row3_col1 {\n",
              "  background-color: #6282ea;\n",
              "  color: #f1f1f1;\n",
              "}\n",
              "#T_5b3b3_row3_col4 {\n",
              "  background-color: #6788ee;\n",
              "  color: #f1f1f1;\n",
              "}\n",
              "#T_5b3b3_row3_col5, #T_5b3b3_row11_col14 {\n",
              "  background-color: #6f92f3;\n",
              "  color: #f1f1f1;\n",
              "}\n",
              "#T_5b3b3_row3_col7 {\n",
              "  background-color: #f18f71;\n",
              "  color: #f1f1f1;\n",
              "}\n",
              "#T_5b3b3_row3_col8 {\n",
              "  background-color: #f7b99e;\n",
              "  color: #000000;\n",
              "}\n",
              "#T_5b3b3_row3_col9, #T_5b3b3_row15_col8 {\n",
              "  background-color: #f6bea4;\n",
              "  color: #000000;\n",
              "}\n",
              "#T_5b3b3_row3_col11, #T_5b3b3_row4_col5, #T_5b3b3_row4_col14, #T_5b3b3_row16_col6 {\n",
              "  background-color: #98b9ff;\n",
              "  color: #000000;\n",
              "}\n",
              "#T_5b3b3_row3_col12, #T_5b3b3_row8_col11, #T_5b3b3_row13_col11, #T_5b3b3_row14_col8 {\n",
              "  background-color: #dfdbd9;\n",
              "  color: #000000;\n",
              "}\n",
              "#T_5b3b3_row3_col13, #T_5b3b3_row8_col9 {\n",
              "  background-color: #e1dad6;\n",
              "  color: #000000;\n",
              "}\n",
              "#T_5b3b3_row3_col14, #T_5b3b3_row10_col11 {\n",
              "  background-color: #b3cdfb;\n",
              "  color: #000000;\n",
              "}\n",
              "#T_5b3b3_row3_col15, #T_5b3b3_row7_col0 {\n",
              "  background-color: #f6a586;\n",
              "  color: #000000;\n",
              "}\n",
              "#T_5b3b3_row3_col16 {\n",
              "  background-color: #4b64d5;\n",
              "  color: #f1f1f1;\n",
              "}\n",
              "#T_5b3b3_row4_col0 {\n",
              "  background-color: #adc9fd;\n",
              "  color: #000000;\n",
              "}\n",
              "#T_5b3b3_row4_col1 {\n",
              "  background-color: #f08a6c;\n",
              "  color: #f1f1f1;\n",
              "}\n",
              "#T_5b3b3_row4_col2, #T_5b3b3_row5_col2 {\n",
              "  background-color: #f7b497;\n",
              "  color: #000000;\n",
              "}\n",
              "#T_5b3b3_row4_col3, #T_5b3b3_row11_col0, #T_5b3b3_row15_col1 {\n",
              "  background-color: #9dbdff;\n",
              "  color: #000000;\n",
              "}\n",
              "#T_5b3b3_row4_col6 {\n",
              "  background-color: #3d50c3;\n",
              "  color: #f1f1f1;\n",
              "}\n",
              "#T_5b3b3_row4_col7 {\n",
              "  background-color: #4358cb;\n",
              "  color: #f1f1f1;\n",
              "}\n",
              "#T_5b3b3_row4_col9, #T_5b3b3_row14_col0 {\n",
              "  background-color: #ecd3c5;\n",
              "  color: #000000;\n",
              "}\n",
              "#T_5b3b3_row4_col10 {\n",
              "  background-color: #7da0f9;\n",
              "  color: #f1f1f1;\n",
              "}\n",
              "#T_5b3b3_row4_col11 {\n",
              "  background-color: #84a7fc;\n",
              "  color: #f1f1f1;\n",
              "}\n",
              "#T_5b3b3_row4_col12, #T_5b3b3_row8_col5, #T_5b3b3_row11_col3, #T_5b3b3_row14_col2 {\n",
              "  background-color: #c1d4f4;\n",
              "  color: #000000;\n",
              "}\n",
              "#T_5b3b3_row4_col13, #T_5b3b3_row10_col0, #T_5b3b3_row10_col12 {\n",
              "  background-color: #bed2f6;\n",
              "  color: #000000;\n",
              "}\n",
              "#T_5b3b3_row4_col15, #T_5b3b3_row16_col3 {\n",
              "  background-color: #5d7ce6;\n",
              "  color: #f1f1f1;\n",
              "}\n",
              "#T_5b3b3_row4_col16, #T_5b3b3_row5_col8, #T_5b3b3_row14_col9 {\n",
              "  background-color: #d4dbe6;\n",
              "  color: #000000;\n",
              "}\n",
              "#T_5b3b3_row5_col0, #T_5b3b3_row6_col4 {\n",
              "  background-color: #779af7;\n",
              "  color: #f1f1f1;\n",
              "}\n",
              "#T_5b3b3_row5_col3 {\n",
              "  background-color: #9ebeff;\n",
              "  color: #000000;\n",
              "}\n",
              "#T_5b3b3_row5_col4 {\n",
              "  background-color: #92b4fe;\n",
              "  color: #000000;\n",
              "}\n",
              "#T_5b3b3_row5_col6, #T_5b3b3_row8_col1, #T_5b3b3_row12_col16 {\n",
              "  background-color: #e3d9d3;\n",
              "  color: #000000;\n",
              "}\n",
              "#T_5b3b3_row5_col7, #T_5b3b3_row14_col12 {\n",
              "  background-color: #c7d7f0;\n",
              "  color: #000000;\n",
              "}\n",
              "#T_5b3b3_row5_col11 {\n",
              "  background-color: #f39778;\n",
              "  color: #000000;\n",
              "}\n",
              "#T_5b3b3_row5_col13, #T_5b3b3_row6_col0, #T_5b3b3_row11_col15 {\n",
              "  background-color: #b5cdfa;\n",
              "  color: #000000;\n",
              "}\n",
              "#T_5b3b3_row5_col16, #T_5b3b3_row10_col16 {\n",
              "  background-color: #f5c2aa;\n",
              "  color: #000000;\n",
              "}\n",
              "#T_5b3b3_row6_col1, #T_5b3b3_row6_col12, #T_5b3b3_row8_col14, #T_5b3b3_row10_col9 {\n",
              "  background-color: #a3c2fe;\n",
              "  color: #000000;\n",
              "}\n",
              "#T_5b3b3_row6_col2 {\n",
              "  background-color: #dadce0;\n",
              "  color: #000000;\n",
              "}\n",
              "#T_5b3b3_row6_col3, #T_5b3b3_row6_col7 {\n",
              "  background-color: #d5dbe5;\n",
              "  color: #000000;\n",
              "}\n",
              "#T_5b3b3_row6_col9 {\n",
              "  background-color: #85a8fc;\n",
              "  color: #f1f1f1;\n",
              "}\n",
              "#T_5b3b3_row6_col10, #T_5b3b3_row7_col14, #T_5b3b3_row10_col1, #T_5b3b3_row12_col14 {\n",
              "  background-color: #9bbcff;\n",
              "  color: #000000;\n",
              "}\n",
              "#T_5b3b3_row6_col11 {\n",
              "  background-color: #dcdddd;\n",
              "  color: #000000;\n",
              "}\n",
              "#T_5b3b3_row6_col13, #T_5b3b3_row12_col4, #T_5b3b3_row14_col1, #T_5b3b3_row14_col13, #T_5b3b3_row15_col11 {\n",
              "  background-color: #c0d4f5;\n",
              "  color: #000000;\n",
              "}\n",
              "#T_5b3b3_row6_col15 {\n",
              "  background-color: #ccd9ed;\n",
              "  color: #000000;\n",
              "}\n",
              "#T_5b3b3_row6_col16 {\n",
              "  background-color: #d9dce1;\n",
              "  color: #000000;\n",
              "}\n",
              "#T_5b3b3_row7_col3 {\n",
              "  background-color: #ec8165;\n",
              "  color: #f1f1f1;\n",
              "}\n",
              "#T_5b3b3_row7_col5, #T_5b3b3_row15_col12 {\n",
              "  background-color: #c6d6f1;\n",
              "  color: #000000;\n",
              "}\n",
              "#T_5b3b3_row7_col6 {\n",
              "  background-color: #aac7fd;\n",
              "  color: #000000;\n",
              "}\n",
              "#T_5b3b3_row7_col8 {\n",
              "  background-color: #f29274;\n",
              "  color: #f1f1f1;\n",
              "}\n",
              "#T_5b3b3_row7_col9, #T_5b3b3_row9_col7 {\n",
              "  background-color: #afcafc;\n",
              "  color: #000000;\n",
              "}\n",
              "#T_5b3b3_row7_col12, #T_5b3b3_row13_col14 {\n",
              "  background-color: #8fb1fe;\n",
              "  color: #000000;\n",
              "}\n",
              "#T_5b3b3_row7_col13, #T_5b3b3_row8_col15 {\n",
              "  background-color: #eed0c0;\n",
              "  color: #000000;\n",
              "}\n",
              "#T_5b3b3_row7_col16 {\n",
              "  background-color: #7a9df8;\n",
              "  color: #f1f1f1;\n",
              "}\n",
              "#T_5b3b3_row8_col2 {\n",
              "  background-color: #a2c1ff;\n",
              "  color: #000000;\n",
              "}\n",
              "#T_5b3b3_row8_col3 {\n",
              "  background-color: #f7b396;\n",
              "  color: #000000;\n",
              "}\n",
              "#T_5b3b3_row8_col4 {\n",
              "  background-color: #a1c0ff;\n",
              "  color: #000000;\n",
              "}\n",
              "#T_5b3b3_row8_col7 {\n",
              "  background-color: #f59d7e;\n",
              "  color: #000000;\n",
              "}\n",
              "#T_5b3b3_row8_col12, #T_5b3b3_row13_col16 {\n",
              "  background-color: #5b7ae5;\n",
              "  color: #f1f1f1;\n",
              "}\n",
              "#T_5b3b3_row8_col13 {\n",
              "  background-color: #e7745b;\n",
              "  color: #f1f1f1;\n",
              "}\n",
              "#T_5b3b3_row9_col0 {\n",
              "  background-color: #f7af91;\n",
              "  color: #000000;\n",
              "}\n",
              "#T_5b3b3_row9_col1, #T_5b3b3_row15_col13 {\n",
              "  background-color: #e6d7cf;\n",
              "  color: #000000;\n",
              "}\n",
              "#T_5b3b3_row9_col2, #T_5b3b3_row10_col13 {\n",
              "  background-color: #9abbff;\n",
              "  color: #000000;\n",
              "}\n",
              "#T_5b3b3_row9_col4 {\n",
              "  background-color: #ead5c9;\n",
              "  color: #000000;\n",
              "}\n",
              "#T_5b3b3_row9_col6 {\n",
              "  background-color: #455cce;\n",
              "  color: #f1f1f1;\n",
              "}\n",
              "#T_5b3b3_row9_col13, #T_5b3b3_row10_col5, #T_5b3b3_row13_col9, #T_5b3b3_row16_col11 {\n",
              "  background-color: #cdd9ec;\n",
              "  color: #000000;\n",
              "}\n",
              "#T_5b3b3_row9_col14 {\n",
              "  background-color: #a9c6fd;\n",
              "  color: #000000;\n",
              "}\n",
              "#T_5b3b3_row9_col15, #T_5b3b3_row13_col0 {\n",
              "  background-color: #d7dce3;\n",
              "  color: #000000;\n",
              "}\n",
              "#T_5b3b3_row9_col16, #T_5b3b3_row11_col10, #T_5b3b3_row12_col5, #T_5b3b3_row15_col16 {\n",
              "  background-color: #7093f3;\n",
              "  color: #f1f1f1;\n",
              "}\n",
              "#T_5b3b3_row10_col2 {\n",
              "  background-color: #e5d8d1;\n",
              "  color: #000000;\n",
              "}\n",
              "#T_5b3b3_row10_col3, #T_5b3b3_row14_col15 {\n",
              "  background-color: #b2ccfb;\n",
              "  color: #000000;\n",
              "}\n",
              "#T_5b3b3_row10_col4, #T_5b3b3_row13_col4 {\n",
              "  background-color: #b9d0f9;\n",
              "  color: #000000;\n",
              "}\n",
              "#T_5b3b3_row10_col6 {\n",
              "  background-color: #a7c5fe;\n",
              "  color: #000000;\n",
              "}\n",
              "#T_5b3b3_row10_col8 {\n",
              "  background-color: #a5c3fe;\n",
              "  color: #000000;\n",
              "}\n",
              "#T_5b3b3_row10_col14 {\n",
              "  background-color: #86a9fc;\n",
              "  color: #f1f1f1;\n",
              "}\n",
              "#T_5b3b3_row10_col15, #T_5b3b3_row15_col2 {\n",
              "  background-color: #82a6fb;\n",
              "  color: #f1f1f1;\n",
              "}\n",
              "#T_5b3b3_row11_col1 {\n",
              "  background-color: #89acfd;\n",
              "  color: #000000;\n",
              "}\n",
              "#T_5b3b3_row11_col4, #T_5b3b3_row12_col8, #T_5b3b3_row12_col10 {\n",
              "  background-color: #81a4fb;\n",
              "  color: #f1f1f1;\n",
              "}\n",
              "#T_5b3b3_row11_col5 {\n",
              "  background-color: #f39577;\n",
              "  color: #000000;\n",
              "}\n",
              "#T_5b3b3_row11_col6 {\n",
              "  background-color: #bad0f8;\n",
              "  color: #000000;\n",
              "}\n",
              "#T_5b3b3_row11_col7 {\n",
              "  background-color: #f3c8b2;\n",
              "  color: #000000;\n",
              "}\n",
              "#T_5b3b3_row11_col9 {\n",
              "  background-color: #3e51c5;\n",
              "  color: #f1f1f1;\n",
              "}\n",
              "#T_5b3b3_row11_col13, #T_5b3b3_row15_col9 {\n",
              "  background-color: #e0dbd8;\n",
              "  color: #000000;\n",
              "}\n",
              "#T_5b3b3_row11_col16 {\n",
              "  background-color: #dedcdb;\n",
              "  color: #000000;\n",
              "}\n",
              "#T_5b3b3_row12_col0 {\n",
              "  background-color: #f7b89c;\n",
              "  color: #000000;\n",
              "}\n",
              "#T_5b3b3_row12_col2, #T_5b3b3_row13_col2, #T_5b3b3_row13_col5 {\n",
              "  background-color: #b6cefa;\n",
              "  color: #000000;\n",
              "}\n",
              "#T_5b3b3_row12_col3 {\n",
              "  background-color: #f1ccb8;\n",
              "  color: #000000;\n",
              "}\n",
              "#T_5b3b3_row12_col6, #T_5b3b3_row13_col12 {\n",
              "  background-color: #6e90f2;\n",
              "  color: #f1f1f1;\n",
              "}\n",
              "#T_5b3b3_row12_col9 {\n",
              "  background-color: #f3c7b1;\n",
              "  color: #000000;\n",
              "}\n",
              "#T_5b3b3_row12_col13 {\n",
              "  background-color: #7295f4;\n",
              "  color: #f1f1f1;\n",
              "}\n",
              "#T_5b3b3_row12_col15, #T_5b3b3_row16_col4 {\n",
              "  background-color: #bcd2f7;\n",
              "  color: #000000;\n",
              "}\n",
              "#T_5b3b3_row13_col1 {\n",
              "  background-color: #ebd3c6;\n",
              "  color: #000000;\n",
              "}\n",
              "#T_5b3b3_row13_col3 {\n",
              "  background-color: #f1cdba;\n",
              "  color: #000000;\n",
              "}\n",
              "#T_5b3b3_row13_col8 {\n",
              "  background-color: #e36b54;\n",
              "  color: #f1f1f1;\n",
              "}\n",
              "#T_5b3b3_row13_col10 {\n",
              "  background-color: #4f69d9;\n",
              "  color: #f1f1f1;\n",
              "}\n",
              "#T_5b3b3_row13_col15 {\n",
              "  background-color: #dddcdc;\n",
              "  color: #000000;\n",
              "}\n",
              "#T_5b3b3_row14_col4 {\n",
              "  background-color: #c4d5f3;\n",
              "  color: #000000;\n",
              "}\n",
              "#T_5b3b3_row14_col7 {\n",
              "  background-color: #cad8ef;\n",
              "  color: #000000;\n",
              "}\n",
              "#T_5b3b3_row14_col10 {\n",
              "  background-color: #799cf8;\n",
              "  color: #f1f1f1;\n",
              "}\n",
              "#T_5b3b3_row14_col11, #T_5b3b3_row15_col5 {\n",
              "  background-color: #a6c4fe;\n",
              "  color: #000000;\n",
              "}\n",
              "#T_5b3b3_row15_col3 {\n",
              "  background-color: #f18d6f;\n",
              "  color: #f1f1f1;\n",
              "}\n",
              "#T_5b3b3_row15_col7 {\n",
              "  background-color: #f2cbb7;\n",
              "  color: #000000;\n",
              "}\n",
              "#T_5b3b3_row15_col10 {\n",
              "  background-color: #4961d2;\n",
              "  color: #f1f1f1;\n",
              "}\n",
              "#T_5b3b3_row16_col0 {\n",
              "  background-color: #6687ed;\n",
              "  color: #f1f1f1;\n",
              "}\n",
              "#T_5b3b3_row16_col2 {\n",
              "  background-color: #e9785d;\n",
              "  color: #f1f1f1;\n",
              "}\n",
              "#T_5b3b3_row16_col5 {\n",
              "  background-color: #f0cdbb;\n",
              "  color: #000000;\n",
              "}\n",
              "#T_5b3b3_row16_col7 {\n",
              "  background-color: #5a78e4;\n",
              "  color: #f1f1f1;\n",
              "}\n",
              "#T_5b3b3_row16_col9 {\n",
              "  background-color: #506bda;\n",
              "  color: #f1f1f1;\n",
              "}\n",
              "#T_5b3b3_row16_col10 {\n",
              "  background-color: #d1dae9;\n",
              "  color: #000000;\n",
              "}\n",
              "#T_5b3b3_row16_col12 {\n",
              "  background-color: #d2dbe8;\n",
              "  color: #000000;\n",
              "}\n",
              "</style>\n",
              "<table id=\"T_5b3b3\" class=\"dataframe\">\n",
              "  <thead>\n",
              "    <tr>\n",
              "      <th class=\"blank level0\" >&nbsp;</th>\n",
              "      <th id=\"T_5b3b3_level0_col0\" class=\"col_heading level0 col0\" >hair</th>\n",
              "      <th id=\"T_5b3b3_level0_col1\" class=\"col_heading level0 col1\" >feathers</th>\n",
              "      <th id=\"T_5b3b3_level0_col2\" class=\"col_heading level0 col2\" >eggs</th>\n",
              "      <th id=\"T_5b3b3_level0_col3\" class=\"col_heading level0 col3\" >milk</th>\n",
              "      <th id=\"T_5b3b3_level0_col4\" class=\"col_heading level0 col4\" >airborne</th>\n",
              "      <th id=\"T_5b3b3_level0_col5\" class=\"col_heading level0 col5\" >aquatic</th>\n",
              "      <th id=\"T_5b3b3_level0_col6\" class=\"col_heading level0 col6\" >predator</th>\n",
              "      <th id=\"T_5b3b3_level0_col7\" class=\"col_heading level0 col7\" >toothed</th>\n",
              "      <th id=\"T_5b3b3_level0_col8\" class=\"col_heading level0 col8\" >backbone</th>\n",
              "      <th id=\"T_5b3b3_level0_col9\" class=\"col_heading level0 col9\" >breathes</th>\n",
              "      <th id=\"T_5b3b3_level0_col10\" class=\"col_heading level0 col10\" >venomous</th>\n",
              "      <th id=\"T_5b3b3_level0_col11\" class=\"col_heading level0 col11\" >fins</th>\n",
              "      <th id=\"T_5b3b3_level0_col12\" class=\"col_heading level0 col12\" >legs</th>\n",
              "      <th id=\"T_5b3b3_level0_col13\" class=\"col_heading level0 col13\" >tail</th>\n",
              "      <th id=\"T_5b3b3_level0_col14\" class=\"col_heading level0 col14\" >domestic</th>\n",
              "      <th id=\"T_5b3b3_level0_col15\" class=\"col_heading level0 col15\" >catsize</th>\n",
              "      <th id=\"T_5b3b3_level0_col16\" class=\"col_heading level0 col16\" >type</th>\n",
              "    </tr>\n",
              "  </thead>\n",
              "  <tbody>\n",
              "    <tr>\n",
              "      <th id=\"T_5b3b3_level0_row0\" class=\"row_heading level0 row0\" >hair</th>\n",
              "      <td id=\"T_5b3b3_row0_col0\" class=\"data row0 col0\" >1.000000</td>\n",
              "      <td id=\"T_5b3b3_row0_col1\" class=\"data row0 col1\" >-0.427851</td>\n",
              "      <td id=\"T_5b3b3_row0_col2\" class=\"data row0 col2\" >-0.817382</td>\n",
              "      <td id=\"T_5b3b3_row0_col3\" class=\"data row0 col3\" >0.878503</td>\n",
              "      <td id=\"T_5b3b3_row0_col4\" class=\"data row0 col4\" >-0.198431</td>\n",
              "      <td id=\"T_5b3b3_row0_col5\" class=\"data row0 col5\" >-0.473554</td>\n",
              "      <td id=\"T_5b3b3_row0_col6\" class=\"data row0 col6\" >-0.154769</td>\n",
              "      <td id=\"T_5b3b3_row0_col7\" class=\"data row0 col7\" >0.492531</td>\n",
              "      <td id=\"T_5b3b3_row0_col8\" class=\"data row0 col8\" >0.191681</td>\n",
              "      <td id=\"T_5b3b3_row0_col9\" class=\"data row0 col9\" >0.441149</td>\n",
              "      <td id=\"T_5b3b3_row0_col10\" class=\"data row0 col10\" >-0.104245</td>\n",
              "      <td id=\"T_5b3b3_row0_col11\" class=\"data row0 col11\" >-0.280313</td>\n",
              "      <td id=\"T_5b3b3_row0_col12\" class=\"data row0 col12\" >0.394009</td>\n",
              "      <td id=\"T_5b3b3_row0_col13\" class=\"data row0 col13\" >0.048973</td>\n",
              "      <td id=\"T_5b3b3_row0_col14\" class=\"data row0 col14\" >0.207208</td>\n",
              "      <td id=\"T_5b3b3_row0_col15\" class=\"data row0 col15\" >0.455020</td>\n",
              "      <td id=\"T_5b3b3_row0_col16\" class=\"data row0 col16\" >-0.562384</td>\n",
              "    </tr>\n",
              "    <tr>\n",
              "      <th id=\"T_5b3b3_level0_row1\" class=\"row_heading level0 row1\" >feathers</th>\n",
              "      <td id=\"T_5b3b3_row1_col0\" class=\"data row1 col0\" >-0.427851</td>\n",
              "      <td id=\"T_5b3b3_row1_col1\" class=\"data row1 col1\" >1.000000</td>\n",
              "      <td id=\"T_5b3b3_row1_col2\" class=\"data row1 col2\" >0.419248</td>\n",
              "      <td id=\"T_5b3b3_row1_col3\" class=\"data row1 col3\" >-0.410761</td>\n",
              "      <td id=\"T_5b3b3_row1_col4\" class=\"data row1 col4\" >0.656553</td>\n",
              "      <td id=\"T_5b3b3_row1_col5\" class=\"data row1 col5\" >-0.058552</td>\n",
              "      <td id=\"T_5b3b3_row1_col6\" class=\"data row1 col6\" >-0.104430</td>\n",
              "      <td id=\"T_5b3b3_row1_col7\" class=\"data row1 col7\" >-0.613631</td>\n",
              "      <td id=\"T_5b3b3_row1_col8\" class=\"data row1 col8\" >0.231403</td>\n",
              "      <td id=\"T_5b3b3_row1_col9\" class=\"data row1 col9\" >0.254588</td>\n",
              "      <td id=\"T_5b3b3_row1_col10\" class=\"data row1 col10\" >-0.145739</td>\n",
              "      <td id=\"T_5b3b3_row1_col11\" class=\"data row1 col11\" >-0.223541</td>\n",
              "      <td id=\"T_5b3b3_row1_col12\" class=\"data row1 col12\" >-0.206686</td>\n",
              "      <td id=\"T_5b3b3_row1_col13\" class=\"data row1 col13\" >0.292569</td>\n",
              "      <td id=\"T_5b3b3_row1_col14\" class=\"data row1 col14\" >0.031586</td>\n",
              "      <td id=\"T_5b3b3_row1_col15\" class=\"data row1 col15\" >-0.135934</td>\n",
              "      <td id=\"T_5b3b3_row1_col16\" class=\"data row1 col16\" >-0.197520</td>\n",
              "    </tr>\n",
              "    <tr>\n",
              "      <th id=\"T_5b3b3_level0_row2\" class=\"row_heading level0 row2\" >eggs</th>\n",
              "      <td id=\"T_5b3b3_row2_col0\" class=\"data row2 col0\" >-0.817382</td>\n",
              "      <td id=\"T_5b3b3_row2_col1\" class=\"data row2 col1\" >0.419248</td>\n",
              "      <td id=\"T_5b3b3_row2_col2\" class=\"data row2 col2\" >1.000000</td>\n",
              "      <td id=\"T_5b3b3_row2_col3\" class=\"data row2 col3\" >-0.938848</td>\n",
              "      <td id=\"T_5b3b3_row2_col4\" class=\"data row2 col4\" >0.376646</td>\n",
              "      <td id=\"T_5b3b3_row2_col5\" class=\"data row2 col5\" >0.376244</td>\n",
              "      <td id=\"T_5b3b3_row2_col6\" class=\"data row2 col6\" >0.011605</td>\n",
              "      <td id=\"T_5b3b3_row2_col7\" class=\"data row2 col7\" >-0.642150</td>\n",
              "      <td id=\"T_5b3b3_row2_col8\" class=\"data row2 col8\" >-0.340420</td>\n",
              "      <td id=\"T_5b3b3_row2_col9\" class=\"data row2 col9\" >-0.382777</td>\n",
              "      <td id=\"T_5b3b3_row2_col10\" class=\"data row2 col10\" >0.098689</td>\n",
              "      <td id=\"T_5b3b3_row2_col11\" class=\"data row2 col11\" >0.164796</td>\n",
              "      <td id=\"T_5b3b3_row2_col12\" class=\"data row2 col12\" >-0.224918</td>\n",
              "      <td id=\"T_5b3b3_row2_col13\" class=\"data row2 col13\" >-0.221090</td>\n",
              "      <td id=\"T_5b3b3_row2_col14\" class=\"data row2 col14\" >-0.155610</td>\n",
              "      <td id=\"T_5b3b3_row2_col15\" class=\"data row2 col15\" >-0.514650</td>\n",
              "      <td id=\"T_5b3b3_row2_col16\" class=\"data row2 col16\" >0.661825</td>\n",
              "    </tr>\n",
              "    <tr>\n",
              "      <th id=\"T_5b3b3_level0_row3\" class=\"row_heading level0 row3\" >milk</th>\n",
              "      <td id=\"T_5b3b3_row3_col0\" class=\"data row3 col0\" >0.878503</td>\n",
              "      <td id=\"T_5b3b3_row3_col1\" class=\"data row3 col1\" >-0.410761</td>\n",
              "      <td id=\"T_5b3b3_row3_col2\" class=\"data row3 col2\" >-0.938848</td>\n",
              "      <td id=\"T_5b3b3_row3_col3\" class=\"data row3 col3\" >1.000000</td>\n",
              "      <td id=\"T_5b3b3_row3_col4\" class=\"data row3 col4\" >-0.366765</td>\n",
              "      <td id=\"T_5b3b3_row3_col5\" class=\"data row3 col5\" >-0.362613</td>\n",
              "      <td id=\"T_5b3b3_row3_col6\" class=\"data row3 col6\" >-0.029721</td>\n",
              "      <td id=\"T_5b3b3_row3_col7\" class=\"data row3 col7\" >0.628168</td>\n",
              "      <td id=\"T_5b3b3_row3_col8\" class=\"data row3 col8\" >0.384958</td>\n",
              "      <td id=\"T_5b3b3_row3_col9\" class=\"data row3 col9\" >0.423527</td>\n",
              "      <td id=\"T_5b3b3_row3_col10\" class=\"data row3 col10\" >-0.242449</td>\n",
              "      <td id=\"T_5b3b3_row3_col11\" class=\"data row3 col11\" >-0.156328</td>\n",
              "      <td id=\"T_5b3b3_row3_col12\" class=\"data row3 col12\" >0.214196</td>\n",
              "      <td id=\"T_5b3b3_row3_col13\" class=\"data row3 col13\" >0.210026</td>\n",
              "      <td id=\"T_5b3b3_row3_col14\" class=\"data row3 col14\" >0.163928</td>\n",
              "      <td id=\"T_5b3b3_row3_col15\" class=\"data row3 col15\" >0.574906</td>\n",
              "      <td id=\"T_5b3b3_row3_col16\" class=\"data row3 col16\" >-0.723683</td>\n",
              "    </tr>\n",
              "    <tr>\n",
              "      <th id=\"T_5b3b3_level0_row4\" class=\"row_heading level0 row4\" >airborne</th>\n",
              "      <td id=\"T_5b3b3_row4_col0\" class=\"data row4 col0\" >-0.198431</td>\n",
              "      <td id=\"T_5b3b3_row4_col1\" class=\"data row4 col1\" >0.656553</td>\n",
              "      <td id=\"T_5b3b3_row4_col2\" class=\"data row4 col2\" >0.376646</td>\n",
              "      <td id=\"T_5b3b3_row4_col3\" class=\"data row4 col3\" >-0.366765</td>\n",
              "      <td id=\"T_5b3b3_row4_col4\" class=\"data row4 col4\" >1.000000</td>\n",
              "      <td id=\"T_5b3b3_row4_col5\" class=\"data row4 col5\" >-0.172638</td>\n",
              "      <td id=\"T_5b3b3_row4_col6\" class=\"data row4 col6\" >-0.295181</td>\n",
              "      <td id=\"T_5b3b3_row4_col7\" class=\"data row4 col7\" >-0.594311</td>\n",
              "      <td id=\"T_5b3b3_row4_col8\" class=\"data row4 col8\" >-0.104718</td>\n",
              "      <td id=\"T_5b3b3_row4_col9\" class=\"data row4 col9\" >0.286039</td>\n",
              "      <td id=\"T_5b3b3_row4_col10\" class=\"data row4 col10\" >0.008528</td>\n",
              "      <td id=\"T_5b3b3_row4_col11\" class=\"data row4 col11\" >-0.251157</td>\n",
              "      <td id=\"T_5b3b3_row4_col12\" class=\"data row4 col12\" >0.043712</td>\n",
              "      <td id=\"T_5b3b3_row4_col13\" class=\"data row4 col13\" >0.009482</td>\n",
              "      <td id=\"T_5b3b3_row4_col14\" class=\"data row4 col14\" >0.063274</td>\n",
              "      <td id=\"T_5b3b3_row4_col15\" class=\"data row4 col15\" >-0.349768</td>\n",
              "      <td id=\"T_5b3b3_row4_col16\" class=\"data row4 col16\" >0.022677</td>\n",
              "    </tr>\n",
              "    <tr>\n",
              "      <th id=\"T_5b3b3_level0_row5\" class=\"row_heading level0 row5\" >aquatic</th>\n",
              "      <td id=\"T_5b3b3_row5_col0\" class=\"data row5 col0\" >-0.473554</td>\n",
              "      <td id=\"T_5b3b3_row5_col1\" class=\"data row5 col1\" >-0.058552</td>\n",
              "      <td id=\"T_5b3b3_row5_col2\" class=\"data row5 col2\" >0.376244</td>\n",
              "      <td id=\"T_5b3b3_row5_col3\" class=\"data row5 col3\" >-0.362613</td>\n",
              "      <td id=\"T_5b3b3_row5_col4\" class=\"data row5 col4\" >-0.172638</td>\n",
              "      <td id=\"T_5b3b3_row5_col5\" class=\"data row5 col5\" >1.000000</td>\n",
              "      <td id=\"T_5b3b3_row5_col6\" class=\"data row5 col6\" >0.375978</td>\n",
              "      <td id=\"T_5b3b3_row5_col7\" class=\"data row5 col7\" >0.053150</td>\n",
              "      <td id=\"T_5b3b3_row5_col8\" class=\"data row5 col8\" >0.022463</td>\n",
              "      <td id=\"T_5b3b3_row5_col9\" class=\"data row5 col9\" >-0.637506</td>\n",
              "      <td id=\"T_5b3b3_row5_col10\" class=\"data row5 col10\" >0.087915</td>\n",
              "      <td id=\"T_5b3b3_row5_col11\" class=\"data row5 col11\" >0.604492</td>\n",
              "      <td id=\"T_5b3b3_row5_col12\" class=\"data row5 col12\" >-0.360638</td>\n",
              "      <td id=\"T_5b3b3_row5_col13\" class=\"data row5 col13\" >-0.034642</td>\n",
              "      <td id=\"T_5b3b3_row5_col14\" class=\"data row5 col14\" >-0.224308</td>\n",
              "      <td id=\"T_5b3b3_row5_col15\" class=\"data row5 col15\" >-0.111866</td>\n",
              "      <td id=\"T_5b3b3_row5_col16\" class=\"data row5 col16\" >0.326639</td>\n",
              "    </tr>\n",
              "    <tr>\n",
              "      <th id=\"T_5b3b3_level0_row6\" class=\"row_heading level0 row6\" >predator</th>\n",
              "      <td id=\"T_5b3b3_row6_col0\" class=\"data row6 col0\" >-0.154769</td>\n",
              "      <td id=\"T_5b3b3_row6_col1\" class=\"data row6 col1\" >-0.104430</td>\n",
              "      <td id=\"T_5b3b3_row6_col2\" class=\"data row6 col2\" >0.011605</td>\n",
              "      <td id=\"T_5b3b3_row6_col3\" class=\"data row6 col3\" >-0.029721</td>\n",
              "      <td id=\"T_5b3b3_row6_col4\" class=\"data row6 col4\" >-0.295181</td>\n",
              "      <td id=\"T_5b3b3_row6_col5\" class=\"data row6 col5\" >0.375978</td>\n",
              "      <td id=\"T_5b3b3_row6_col6\" class=\"data row6 col6\" >1.000000</td>\n",
              "      <td id=\"T_5b3b3_row6_col7\" class=\"data row6 col7\" >0.129452</td>\n",
              "      <td id=\"T_5b3b3_row6_col8\" class=\"data row6 col8\" >0.051022</td>\n",
              "      <td id=\"T_5b3b3_row6_col9\" class=\"data row6 col9\" >-0.262931</td>\n",
              "      <td id=\"T_5b3b3_row6_col10\" class=\"data row6 col10\" >0.115391</td>\n",
              "      <td id=\"T_5b3b3_row6_col11\" class=\"data row6 col11\" >0.190302</td>\n",
              "      <td id=\"T_5b3b3_row6_col12\" class=\"data row6 col12\" >-0.099723</td>\n",
              "      <td id=\"T_5b3b3_row6_col13\" class=\"data row6 col13\" >0.018947</td>\n",
              "      <td id=\"T_5b3b3_row6_col14\" class=\"data row6 col14\" >-0.309794</td>\n",
              "      <td id=\"T_5b3b3_row6_col15\" class=\"data row6 col15\" >0.144790</td>\n",
              "      <td id=\"T_5b3b3_row6_col16\" class=\"data row6 col16\" >0.061179</td>\n",
              "    </tr>\n",
              "    <tr>\n",
              "      <th id=\"T_5b3b3_level0_row7\" class=\"row_heading level0 row7\" >toothed</th>\n",
              "      <td id=\"T_5b3b3_row7_col0\" class=\"data row7 col0\" >0.492531</td>\n",
              "      <td id=\"T_5b3b3_row7_col1\" class=\"data row7 col1\" >-0.613631</td>\n",
              "      <td id=\"T_5b3b3_row7_col2\" class=\"data row7 col2\" >-0.642150</td>\n",
              "      <td id=\"T_5b3b3_row7_col3\" class=\"data row7 col3\" >0.628168</td>\n",
              "      <td id=\"T_5b3b3_row7_col4\" class=\"data row7 col4\" >-0.594311</td>\n",
              "      <td id=\"T_5b3b3_row7_col5\" class=\"data row7 col5\" >0.053150</td>\n",
              "      <td id=\"T_5b3b3_row7_col6\" class=\"data row7 col6\" >0.129452</td>\n",
              "      <td id=\"T_5b3b3_row7_col7\" class=\"data row7 col7\" >1.000000</td>\n",
              "      <td id=\"T_5b3b3_row7_col8\" class=\"data row7 col8\" >0.575085</td>\n",
              "      <td id=\"T_5b3b3_row7_col9\" class=\"data row7 col9\" >-0.065690</td>\n",
              "      <td id=\"T_5b3b3_row7_col10\" class=\"data row7 col10\" >-0.062344</td>\n",
              "      <td id=\"T_5b3b3_row7_col11\" class=\"data row7 col11\" >0.364292</td>\n",
              "      <td id=\"T_5b3b3_row7_col12\" class=\"data row7 col12\" >-0.193476</td>\n",
              "      <td id=\"T_5b3b3_row7_col13\" class=\"data row7 col13\" >0.310368</td>\n",
              "      <td id=\"T_5b3b3_row7_col14\" class=\"data row7 col14\" >0.069430</td>\n",
              "      <td id=\"T_5b3b3_row7_col15\" class=\"data row7 col15\" >0.344010</td>\n",
              "      <td id=\"T_5b3b3_row7_col16\" class=\"data row7 col16\" >-0.471527</td>\n",
              "    </tr>\n",
              "    <tr>\n",
              "      <th id=\"T_5b3b3_level0_row8\" class=\"row_heading level0 row8\" >backbone</th>\n",
              "      <td id=\"T_5b3b3_row8_col0\" class=\"data row8 col0\" >0.191681</td>\n",
              "      <td id=\"T_5b3b3_row8_col1\" class=\"data row8 col1\" >0.231403</td>\n",
              "      <td id=\"T_5b3b3_row8_col2\" class=\"data row8 col2\" >-0.340420</td>\n",
              "      <td id=\"T_5b3b3_row8_col3\" class=\"data row8 col3\" >0.384958</td>\n",
              "      <td id=\"T_5b3b3_row8_col4\" class=\"data row8 col4\" >-0.104718</td>\n",
              "      <td id=\"T_5b3b3_row8_col5\" class=\"data row8 col5\" >0.022463</td>\n",
              "      <td id=\"T_5b3b3_row8_col6\" class=\"data row8 col6\" >0.051022</td>\n",
              "      <td id=\"T_5b3b3_row8_col7\" class=\"data row8 col7\" >0.575085</td>\n",
              "      <td id=\"T_5b3b3_row8_col8\" class=\"data row8 col8\" >1.000000</td>\n",
              "      <td id=\"T_5b3b3_row8_col9\" class=\"data row8 col9\" >0.207666</td>\n",
              "      <td id=\"T_5b3b3_row8_col10\" class=\"data row8 col10\" >-0.246611</td>\n",
              "      <td id=\"T_5b3b3_row8_col11\" class=\"data row8 col11\" >0.209499</td>\n",
              "      <td id=\"T_5b3b3_row8_col12\" class=\"data row8 col12\" >-0.432856</td>\n",
              "      <td id=\"T_5b3b3_row8_col13\" class=\"data row8 col13\" >0.731762</td>\n",
              "      <td id=\"T_5b3b3_row8_col14\" class=\"data row8 col14\" >0.101733</td>\n",
              "      <td id=\"T_5b3b3_row8_col15\" class=\"data row8 col15\" >0.356976</td>\n",
              "      <td id=\"T_5b3b3_row8_col16\" class=\"data row8 col16\" >-0.828845</td>\n",
              "    </tr>\n",
              "    <tr>\n",
              "      <th id=\"T_5b3b3_level0_row9\" class=\"row_heading level0 row9\" >breathes</th>\n",
              "      <td id=\"T_5b3b3_row9_col0\" class=\"data row9 col0\" >0.441149</td>\n",
              "      <td id=\"T_5b3b3_row9_col1\" class=\"data row9 col1\" >0.254588</td>\n",
              "      <td id=\"T_5b3b3_row9_col2\" class=\"data row9 col2\" >-0.382777</td>\n",
              "      <td id=\"T_5b3b3_row9_col3\" class=\"data row9 col3\" >0.423527</td>\n",
              "      <td id=\"T_5b3b3_row9_col4\" class=\"data row9 col4\" >0.286039</td>\n",
              "      <td id=\"T_5b3b3_row9_col5\" class=\"data row9 col5\" >-0.637506</td>\n",
              "      <td id=\"T_5b3b3_row9_col6\" class=\"data row9 col6\" >-0.262931</td>\n",
              "      <td id=\"T_5b3b3_row9_col7\" class=\"data row9 col7\" >-0.065690</td>\n",
              "      <td id=\"T_5b3b3_row9_col8\" class=\"data row9 col8\" >0.207666</td>\n",
              "      <td id=\"T_5b3b3_row9_col9\" class=\"data row9 col9\" >1.000000</td>\n",
              "      <td id=\"T_5b3b3_row9_col10\" class=\"data row9 col10\" >-0.120752</td>\n",
              "      <td id=\"T_5b3b3_row9_col11\" class=\"data row9 col11\" >-0.617219</td>\n",
              "      <td id=\"T_5b3b3_row9_col12\" class=\"data row9 col12\" >0.369868</td>\n",
              "      <td id=\"T_5b3b3_row9_col13\" class=\"data row9 col13\" >0.088952</td>\n",
              "      <td id=\"T_5b3b3_row9_col14\" class=\"data row9 col14\" >0.124068</td>\n",
              "      <td id=\"T_5b3b3_row9_col15\" class=\"data row9 col15\" >0.204125</td>\n",
              "      <td id=\"T_5b3b3_row9_col16\" class=\"data row9 col16\" >-0.519308</td>\n",
              "    </tr>\n",
              "    <tr>\n",
              "      <th id=\"T_5b3b3_level0_row10\" class=\"row_heading level0 row10\" >venomous</th>\n",
              "      <td id=\"T_5b3b3_row10_col0\" class=\"data row10 col0\" >-0.104245</td>\n",
              "      <td id=\"T_5b3b3_row10_col1\" class=\"data row10 col1\" >-0.145739</td>\n",
              "      <td id=\"T_5b3b3_row10_col2\" class=\"data row10 col2\" >0.098689</td>\n",
              "      <td id=\"T_5b3b3_row10_col3\" class=\"data row10 col3\" >-0.242449</td>\n",
              "      <td id=\"T_5b3b3_row10_col4\" class=\"data row10 col4\" >0.008528</td>\n",
              "      <td id=\"T_5b3b3_row10_col5\" class=\"data row10 col5\" >0.087915</td>\n",
              "      <td id=\"T_5b3b3_row10_col6\" class=\"data row10 col6\" >0.115391</td>\n",
              "      <td id=\"T_5b3b3_row10_col7\" class=\"data row10 col7\" >-0.062344</td>\n",
              "      <td id=\"T_5b3b3_row10_col8\" class=\"data row10 col8\" >-0.246611</td>\n",
              "      <td id=\"T_5b3b3_row10_col9\" class=\"data row10 col9\" >-0.120752</td>\n",
              "      <td id=\"T_5b3b3_row10_col10\" class=\"data row10 col10\" >1.000000</td>\n",
              "      <td id=\"T_5b3b3_row10_col11\" class=\"data row10 col11\" >-0.033956</td>\n",
              "      <td id=\"T_5b3b3_row10_col12\" class=\"data row10 col12\" >0.022964</td>\n",
              "      <td id=\"T_5b3b3_row10_col13\" class=\"data row10 col13\" >-0.162724</td>\n",
              "      <td id=\"T_5b3b3_row10_col14\" class=\"data row10 col14\" >-0.003252</td>\n",
              "      <td id=\"T_5b3b3_row10_col15\" class=\"data row10 col15\" >-0.183748</td>\n",
              "      <td id=\"T_5b3b3_row10_col16\" class=\"data row10 col16\" >0.321476</td>\n",
              "    </tr>\n",
              "    <tr>\n",
              "      <th id=\"T_5b3b3_level0_row11\" class=\"row_heading level0 row11\" >fins</th>\n",
              "      <td id=\"T_5b3b3_row11_col0\" class=\"data row11 col0\" >-0.280313</td>\n",
              "      <td id=\"T_5b3b3_row11_col1\" class=\"data row11 col1\" >-0.223541</td>\n",
              "      <td id=\"T_5b3b3_row11_col2\" class=\"data row11 col2\" >0.164796</td>\n",
              "      <td id=\"T_5b3b3_row11_col3\" class=\"data row11 col3\" >-0.156328</td>\n",
              "      <td id=\"T_5b3b3_row11_col4\" class=\"data row11 col4\" >-0.251157</td>\n",
              "      <td id=\"T_5b3b3_row11_col5\" class=\"data row11 col5\" >0.604492</td>\n",
              "      <td id=\"T_5b3b3_row11_col6\" class=\"data row11 col6\" >0.190302</td>\n",
              "      <td id=\"T_5b3b3_row11_col7\" class=\"data row11 col7\" >0.364292</td>\n",
              "      <td id=\"T_5b3b3_row11_col8\" class=\"data row11 col8\" >0.209499</td>\n",
              "      <td id=\"T_5b3b3_row11_col9\" class=\"data row11 col9\" >-0.617219</td>\n",
              "      <td id=\"T_5b3b3_row11_col10\" class=\"data row11 col10\" >-0.033956</td>\n",
              "      <td id=\"T_5b3b3_row11_col11\" class=\"data row11 col11\" >1.000000</td>\n",
              "      <td id=\"T_5b3b3_row11_col12\" class=\"data row11 col12\" >-0.605652</td>\n",
              "      <td id=\"T_5b3b3_row11_col13\" class=\"data row11 col13\" >0.204349</td>\n",
              "      <td id=\"T_5b3b3_row11_col14\" class=\"data row11 col14\" >-0.093887</td>\n",
              "      <td id=\"T_5b3b3_row11_col15\" class=\"data row11 col15\" >0.031705</td>\n",
              "      <td id=\"T_5b3b3_row11_col16\" class=\"data row11 col16\" >0.099430</td>\n",
              "    </tr>\n",
              "    <tr>\n",
              "      <th id=\"T_5b3b3_level0_row12\" class=\"row_heading level0 row12\" >legs</th>\n",
              "      <td id=\"T_5b3b3_row12_col0\" class=\"data row12 col0\" >0.394009</td>\n",
              "      <td id=\"T_5b3b3_row12_col1\" class=\"data row12 col1\" >-0.206686</td>\n",
              "      <td id=\"T_5b3b3_row12_col2\" class=\"data row12 col2\" >-0.224918</td>\n",
              "      <td id=\"T_5b3b3_row12_col3\" class=\"data row12 col3\" >0.214196</td>\n",
              "      <td id=\"T_5b3b3_row12_col4\" class=\"data row12 col4\" >0.043712</td>\n",
              "      <td id=\"T_5b3b3_row12_col5\" class=\"data row12 col5\" >-0.360638</td>\n",
              "      <td id=\"T_5b3b3_row12_col6\" class=\"data row12 col6\" >-0.099723</td>\n",
              "      <td id=\"T_5b3b3_row12_col7\" class=\"data row12 col7\" >-0.193476</td>\n",
              "      <td id=\"T_5b3b3_row12_col8\" class=\"data row12 col8\" >-0.432856</td>\n",
              "      <td id=\"T_5b3b3_row12_col9\" class=\"data row12 col9\" >0.369868</td>\n",
              "      <td id=\"T_5b3b3_row12_col10\" class=\"data row12 col10\" >0.022964</td>\n",
              "      <td id=\"T_5b3b3_row12_col11\" class=\"data row12 col11\" >-0.605652</td>\n",
              "      <td id=\"T_5b3b3_row12_col12\" class=\"data row12 col12\" >1.000000</td>\n",
              "      <td id=\"T_5b3b3_row12_col13\" class=\"data row12 col13\" >-0.348295</td>\n",
              "      <td id=\"T_5b3b3_row12_col14\" class=\"data row12 col14\" >0.073931</td>\n",
              "      <td id=\"T_5b3b3_row12_col15\" class=\"data row12 col15\" >0.068791</td>\n",
              "      <td id=\"T_5b3b3_row12_col16\" class=\"data row12 col16\" >0.131693</td>\n",
              "    </tr>\n",
              "    <tr>\n",
              "      <th id=\"T_5b3b3_level0_row13\" class=\"row_heading level0 row13\" >tail</th>\n",
              "      <td id=\"T_5b3b3_row13_col0\" class=\"data row13 col0\" >0.048973</td>\n",
              "      <td id=\"T_5b3b3_row13_col1\" class=\"data row13 col1\" >0.292569</td>\n",
              "      <td id=\"T_5b3b3_row13_col2\" class=\"data row13 col2\" >-0.221090</td>\n",
              "      <td id=\"T_5b3b3_row13_col3\" class=\"data row13 col3\" >0.210026</td>\n",
              "      <td id=\"T_5b3b3_row13_col4\" class=\"data row13 col4\" >0.009482</td>\n",
              "      <td id=\"T_5b3b3_row13_col5\" class=\"data row13 col5\" >-0.034642</td>\n",
              "      <td id=\"T_5b3b3_row13_col6\" class=\"data row13 col6\" >0.018947</td>\n",
              "      <td id=\"T_5b3b3_row13_col7\" class=\"data row13 col7\" >0.310368</td>\n",
              "      <td id=\"T_5b3b3_row13_col8\" class=\"data row13 col8\" >0.731762</td>\n",
              "      <td id=\"T_5b3b3_row13_col9\" class=\"data row13 col9\" >0.088952</td>\n",
              "      <td id=\"T_5b3b3_row13_col10\" class=\"data row13 col10\" >-0.162724</td>\n",
              "      <td id=\"T_5b3b3_row13_col11\" class=\"data row13 col11\" >0.204349</td>\n",
              "      <td id=\"T_5b3b3_row13_col12\" class=\"data row13 col12\" >-0.348295</td>\n",
              "      <td id=\"T_5b3b3_row13_col13\" class=\"data row13 col13\" >1.000000</td>\n",
              "      <td id=\"T_5b3b3_row13_col14\" class=\"data row13 col14\" >0.023434</td>\n",
              "      <td id=\"T_5b3b3_row13_col15\" class=\"data row13 col15\" >0.243277</td>\n",
              "      <td id=\"T_5b3b3_row13_col16\" class=\"data row13 col16\" >-0.631830</td>\n",
              "    </tr>\n",
              "    <tr>\n",
              "      <th id=\"T_5b3b3_level0_row14\" class=\"row_heading level0 row14\" >domestic</th>\n",
              "      <td id=\"T_5b3b3_row14_col0\" class=\"data row14 col0\" >0.207208</td>\n",
              "      <td id=\"T_5b3b3_row14_col1\" class=\"data row14 col1\" >0.031586</td>\n",
              "      <td id=\"T_5b3b3_row14_col2\" class=\"data row14 col2\" >-0.155610</td>\n",
              "      <td id=\"T_5b3b3_row14_col3\" class=\"data row14 col3\" >0.163928</td>\n",
              "      <td id=\"T_5b3b3_row14_col4\" class=\"data row14 col4\" >0.063274</td>\n",
              "      <td id=\"T_5b3b3_row14_col5\" class=\"data row14 col5\" >-0.224308</td>\n",
              "      <td id=\"T_5b3b3_row14_col6\" class=\"data row14 col6\" >-0.309794</td>\n",
              "      <td id=\"T_5b3b3_row14_col7\" class=\"data row14 col7\" >0.069430</td>\n",
              "      <td id=\"T_5b3b3_row14_col8\" class=\"data row14 col8\" >0.101733</td>\n",
              "      <td id=\"T_5b3b3_row14_col9\" class=\"data row14 col9\" >0.124068</td>\n",
              "      <td id=\"T_5b3b3_row14_col10\" class=\"data row14 col10\" >-0.003252</td>\n",
              "      <td id=\"T_5b3b3_row14_col11\" class=\"data row14 col11\" >-0.093887</td>\n",
              "      <td id=\"T_5b3b3_row14_col12\" class=\"data row14 col12\" >0.073931</td>\n",
              "      <td id=\"T_5b3b3_row14_col13\" class=\"data row14 col13\" >0.023434</td>\n",
              "      <td id=\"T_5b3b3_row14_col14\" class=\"data row14 col14\" >1.000000</td>\n",
              "      <td id=\"T_5b3b3_row14_col15\" class=\"data row14 col15\" >0.020073</td>\n",
              "      <td id=\"T_5b3b3_row14_col16\" class=\"data row14 col16\" >-0.181043</td>\n",
              "    </tr>\n",
              "    <tr>\n",
              "      <th id=\"T_5b3b3_level0_row15\" class=\"row_heading level0 row15\" >catsize</th>\n",
              "      <td id=\"T_5b3b3_row15_col0\" class=\"data row15 col0\" >0.455020</td>\n",
              "      <td id=\"T_5b3b3_row15_col1\" class=\"data row15 col1\" >-0.135934</td>\n",
              "      <td id=\"T_5b3b3_row15_col2\" class=\"data row15 col2\" >-0.514650</td>\n",
              "      <td id=\"T_5b3b3_row15_col3\" class=\"data row15 col3\" >0.574906</td>\n",
              "      <td id=\"T_5b3b3_row15_col4\" class=\"data row15 col4\" >-0.349768</td>\n",
              "      <td id=\"T_5b3b3_row15_col5\" class=\"data row15 col5\" >-0.111866</td>\n",
              "      <td id=\"T_5b3b3_row15_col6\" class=\"data row15 col6\" >0.144790</td>\n",
              "      <td id=\"T_5b3b3_row15_col7\" class=\"data row15 col7\" >0.344010</td>\n",
              "      <td id=\"T_5b3b3_row15_col8\" class=\"data row15 col8\" >0.356976</td>\n",
              "      <td id=\"T_5b3b3_row15_col9\" class=\"data row15 col9\" >0.204125</td>\n",
              "      <td id=\"T_5b3b3_row15_col10\" class=\"data row15 col10\" >-0.183748</td>\n",
              "      <td id=\"T_5b3b3_row15_col11\" class=\"data row15 col11\" >0.031705</td>\n",
              "      <td id=\"T_5b3b3_row15_col12\" class=\"data row15 col12\" >0.068791</td>\n",
              "      <td id=\"T_5b3b3_row15_col13\" class=\"data row15 col13\" >0.243277</td>\n",
              "      <td id=\"T_5b3b3_row15_col14\" class=\"data row15 col14\" >0.020073</td>\n",
              "      <td id=\"T_5b3b3_row15_col15\" class=\"data row15 col15\" >1.000000</td>\n",
              "      <td id=\"T_5b3b3_row15_col16\" class=\"data row15 col16\" >-0.521030</td>\n",
              "    </tr>\n",
              "    <tr>\n",
              "      <th id=\"T_5b3b3_level0_row16\" class=\"row_heading level0 row16\" >type</th>\n",
              "      <td id=\"T_5b3b3_row16_col0\" class=\"data row16 col0\" >-0.562384</td>\n",
              "      <td id=\"T_5b3b3_row16_col1\" class=\"data row16 col1\" >-0.197520</td>\n",
              "      <td id=\"T_5b3b3_row16_col2\" class=\"data row16 col2\" >0.661825</td>\n",
              "      <td id=\"T_5b3b3_row16_col3\" class=\"data row16 col3\" >-0.723683</td>\n",
              "      <td id=\"T_5b3b3_row16_col4\" class=\"data row16 col4\" >0.022677</td>\n",
              "      <td id=\"T_5b3b3_row16_col5\" class=\"data row16 col5\" >0.326639</td>\n",
              "      <td id=\"T_5b3b3_row16_col6\" class=\"data row16 col6\" >0.061179</td>\n",
              "      <td id=\"T_5b3b3_row16_col7\" class=\"data row16 col7\" >-0.471527</td>\n",
              "      <td id=\"T_5b3b3_row16_col8\" class=\"data row16 col8\" >-0.828845</td>\n",
              "      <td id=\"T_5b3b3_row16_col9\" class=\"data row16 col9\" >-0.519308</td>\n",
              "      <td id=\"T_5b3b3_row16_col10\" class=\"data row16 col10\" >0.321476</td>\n",
              "      <td id=\"T_5b3b3_row16_col11\" class=\"data row16 col11\" >0.099430</td>\n",
              "      <td id=\"T_5b3b3_row16_col12\" class=\"data row16 col12\" >0.131693</td>\n",
              "      <td id=\"T_5b3b3_row16_col13\" class=\"data row16 col13\" >-0.631830</td>\n",
              "      <td id=\"T_5b3b3_row16_col14\" class=\"data row16 col14\" >-0.181043</td>\n",
              "      <td id=\"T_5b3b3_row16_col15\" class=\"data row16 col15\" >-0.521030</td>\n",
              "      <td id=\"T_5b3b3_row16_col16\" class=\"data row16 col16\" >1.000000</td>\n",
              "    </tr>\n",
              "  </tbody>\n",
              "</table>\n"
            ]
          },
          "metadata": {},
          "execution_count": 16
        }
      ]
    },
    {
      "cell_type": "markdown",
      "source": [
        "# **Splitting the data into Train and Test**"
      ],
      "metadata": {
        "id": "btjE1QXthFwd"
      }
    },
    {
      "cell_type": "code",
      "source": [
        "X = df.iloc[:,1:17]\n",
        "y = df.iloc[:,17]"
      ],
      "metadata": {
        "id": "CO6rvQamg7mp"
      },
      "execution_count": 18,
      "outputs": []
    },
    {
      "cell_type": "code",
      "source": [
        "X_train, X_test, y_train, y_test = train_test_split(X, y, test_size=0.2, random_state=1, stratify=y)"
      ],
      "metadata": {
        "id": "0A9-QZhqhPPp"
      },
      "execution_count": 19,
      "outputs": []
    },
    {
      "cell_type": "code",
      "source": [
        "k_values = np.arange(1,25)\n",
        "train_accuracy = []\n",
        "test_accuracy = []"
      ],
      "metadata": {
        "id": "t9mqiuqrhX21"
      },
      "execution_count": 20,
      "outputs": []
    },
    {
      "cell_type": "code",
      "source": [
        "for i, k in enumerate(k_values):\n",
        "    knn = KNeighborsClassifier(n_neighbors=k)\n",
        "    knn.fit(X_train,y_train)\n",
        "    train_accuracy.append(knn.score(X_train, y_train))\n",
        "    test_accuracy.append(knn.score(X_test, y_test))"
      ],
      "metadata": {
        "id": "N-rK3TeNhalp"
      },
      "execution_count": 21,
      "outputs": []
    },
    {
      "cell_type": "code",
      "source": [
        "plt.figure(figsize=[13,8])\n",
        "plt.plot(k_values, test_accuracy, label = 'Testing Accuracy')\n",
        "plt.plot(k_values, train_accuracy, label = 'Training Accuracy')\n",
        "plt.legend()\n",
        "plt.title('-value VS Accuracy')\n",
        "plt.xlabel('Number of Neighbors')\n",
        "plt.ylabel('Accuracy')\n",
        "plt.xticks(k_values)\n",
        "plt.show()"
      ],
      "metadata": {
        "colab": {
          "base_uri": "https://localhost:8080/",
          "height": 423
        },
        "id": "yq_ka8-Vhc2g",
        "outputId": "d3838531-165c-4127-9cd5-0752082a65bd"
      },
      "execution_count": 22,
      "outputs": [
        {
          "output_type": "display_data",
          "data": {
            "text/plain": [
              "<Figure size 1300x800 with 1 Axes>"
            ],
            "image/png": "[encoded data removed]"
          },
          "metadata": {}
        }
      ]
    },
    {
      "cell_type": "markdown",
      "source": [
        "**As we can see above that the k=5 gives us the best accuracy.So now lets build the model using k=5.**"
      ],
      "metadata": {
        "id": "Y0OgwaDChnIp"
      }
    },
    {
      "cell_type": "code",
      "source": [
        "knn = KNeighborsClassifier(n_neighbors=5)"
      ],
      "metadata": {
        "id": "W68DR3FEhgjI"
      },
      "execution_count": 23,
      "outputs": []
    },
    {
      "cell_type": "code",
      "source": [
        "knn.fit(X_train, y_train)\n",
        "y_pred_KNeighborsClassifier = knn.predict(X_test)"
      ],
      "metadata": {
        "id": "kNuZcCQrhxY9"
      },
      "execution_count": 24,
      "outputs": []
    },
    {
      "cell_type": "code",
      "source": [
        "scores = []\n",
        "cv_scores = []"
      ],
      "metadata": {
        "id": "1rW1Uyv-hzpg"
      },
      "execution_count": 25,
      "outputs": []
    },
    {
      "cell_type": "code",
      "source": [
        "score = accuracy_score(y_pred_KNeighborsClassifier,y_test)\n",
        "scores.append(score)\n",
        "score"
      ],
      "metadata": {
        "colab": {
          "base_uri": "https://localhost:8080/"
        },
        "id": "WQq-6Itth2BJ",
        "outputId": "e0073601-84d3-4b78-d3e4-aedb090af572"
      },
      "execution_count": 28,
      "outputs": [
        {
          "output_type": "execute_result",
          "data": {
            "text/plain": [
              "0.8571428571428571"
            ]
          },
          "metadata": {},
          "execution_count": 28
        }
      ]
    },
    {
      "cell_type": "code",
      "source": [
        "score_knn=cross_val_score(knn, X,y, cv=10)"
      ],
      "metadata": {
        "id": "M9FmkZVph4WF"
      },
      "execution_count": 29,
      "outputs": []
    },
    {
      "cell_type": "code",
      "source": [
        "cv_score = score_knn.mean()\n",
        "cv_scores.append(cv_score)\n",
        "cv_scores"
      ],
      "metadata": {
        "colab": {
          "base_uri": "https://localhost:8080/"
        },
        "id": "qjvSyNI3iKwp",
        "outputId": "f9d50bf8-a368-497a-ae5f-9062652fc69d"
      },
      "execution_count": 31,
      "outputs": [
        {
          "output_type": "execute_result",
          "data": {
            "text/plain": [
              "[0.8809090909090909]"
            ]
          },
          "metadata": {},
          "execution_count": 31
        }
      ]
    },
    {
      "cell_type": "markdown",
      "source": [
        "**So as we can see above the cross validation Accuracy is 88.09% for k=5.**"
      ],
      "metadata": {
        "id": "5yK51EMvii5x"
      }
    },
    {
      "cell_type": "markdown",
      "source": [
        "**Now let's try to get the better accuracy by tunning the parameters.**"
      ],
      "metadata": {
        "id": "sgfphTzWio_w"
      }
    },
    {
      "cell_type": "markdown",
      "source": [
        "# **Hyperparameter Tunning for KNN Classifier by using Grid Search CV.**"
      ],
      "metadata": {
        "id": "1crXtds3itg9"
      }
    },
    {
      "cell_type": "code",
      "source": [
        "model = KNeighborsClassifier()"
      ],
      "metadata": {
        "id": "4Hg6lGBYiTLf"
      },
      "execution_count": 32,
      "outputs": []
    },
    {
      "cell_type": "code",
      "source": [
        "n_neighbours = np.array(range(1,25))"
      ],
      "metadata": {
        "id": "cPkcNsd3i02E"
      },
      "execution_count": 33,
      "outputs": []
    },
    {
      "cell_type": "code",
      "source": [
        "grid = GridSearchCV(estimator=model,param_grid=dict(n_neighbors = n_neighbours))"
      ],
      "metadata": {
        "id": "EO_1xzr5i3WX"
      },
      "execution_count": 34,
      "outputs": []
    },
    {
      "cell_type": "code",
      "source": [
        "grid.fit(X_train,y_train)"
      ],
      "metadata": {
        "colab": {
          "base_uri": "https://localhost:8080/",
          "height": 116
        },
        "id": "dE-TYxjhi50h",
        "outputId": "bb1a06be-759a-4af6-f5a0-ccb8b8728d33"
      },
      "execution_count": 35,
      "outputs": [
        {
          "output_type": "execute_result",
          "data": {
            "text/plain": [
              "GridSearchCV(estimator=KNeighborsClassifier(),\n",
              "             param_grid={'n_neighbors': array([ 1,  2,  3,  4,  5,  6,  7,  8,  9, 10, 11, 12, 13, 14, 15, 16, 17,\n",
              "       18, 19, 20, 21, 22, 23, 24])})"
            ],
            "text/html": [
              "<style>#sk-container-id-1 {color: black;background-color: white;}#sk-container-id-1 pre{padding: 0;}#sk-container-id-1 div.sk-toggleable {background-color: white;}#sk-container-id-1 label.sk-toggleable__label {cursor: pointer;display: block;width: 100%;margin-bottom: 0;padding: 0.3em;box-sizing: border-box;text-align: center;}#sk-container-id-1 label.sk-toggleable__label-arrow:before {content: \"▸\";float: left;margin-right: 0.25em;color: #696969;}#sk-container-id-1 label.sk-toggleable__label-arrow:hover:before {color: black;}#sk-container-id-1 div.sk-estimator:hover label.sk-toggleable__label-arrow:before {color: black;}#sk-container-id-1 div.sk-toggleable__content {max-height: 0;max-width: 0;overflow: hidden;text-align: left;background-color: #f0f8ff;}#sk-container-id-1 div.sk-toggleable__content pre {margin: 0.2em;color: black;border-radius: 0.25em;background-color: #f0f8ff;}#sk-container-id-1 input.sk-toggleable__control:checked~div.sk-toggleable__content {max-height: 200px;max-width: 100%;overflow: auto;}#sk-container-id-1 input.sk-toggleable__control:checked~label.sk-toggleable__label-arrow:before {content: \"▾\";}#sk-container-id-1 div.sk-estimator input.sk-toggleable__control:checked~label.sk-toggleable__label {background-color: #d4ebff;}#sk-container-id-1 div.sk-label input.sk-toggleable__control:checked~label.sk-toggleable__label {background-color: #d4ebff;}#sk-container-id-1 input.sk-hidden--visually {border: 0;clip: rect(1px 1px 1px 1px);clip: rect(1px, 1px, 1px, 1px);height: 1px;margin: -1px;overflow: hidden;padding: 0;position: absolute;width: 1px;}#sk-container-id-1 div.sk-estimator {font-family: monospace;background-color: #f0f8ff;border: 1px dotted black;border-radius: 0.25em;box-sizing: border-box;margin-bottom: 0.5em;}#sk-container-id-1 div.sk-estimator:hover {background-color: #d4ebff;}#sk-container-id-1 div.sk-parallel-item::after {content: \"\";width: 100%;border-bottom: 1px solid gray;flex-grow: 1;}#sk-container-id-1 div.sk-label:hover label.sk-toggleable__label {background-color: #d4ebff;}#sk-container-id-1 div.sk-serial::before {content: \"\";position: absolute;border-left: 1px solid gray;box-sizing: border-box;top: 0;bottom: 0;left: 50%;z-index: 0;}#sk-container-id-1 div.sk-serial {display: flex;flex-direction: column;align-items: center;background-color: white;padding-right: 0.2em;padding-left: 0.2em;position: relative;}#sk-container-id-1 div.sk-item {position: relative;z-index: 1;}#sk-container-id-1 div.sk-parallel {display: flex;align-items: stretch;justify-content: center;background-color: white;position: relative;}#sk-container-id-1 div.sk-item::before, #sk-container-id-1 div.sk-parallel-item::before {content: \"\";position: absolute;border-left: 1px solid gray;box-sizing: border-box;top: 0;bottom: 0;left: 50%;z-index: -1;}#sk-container-id-1 div.sk-parallel-item {display: flex;flex-direction: column;z-index: 1;position: relative;background-color: white;}#sk-container-id-1 div.sk-parallel-item:first-child::after {align-self: flex-end;width: 50%;}#sk-container-id-1 div.sk-parallel-item:last-child::after {align-self: flex-start;width: 50%;}#sk-container-id-1 div.sk-parallel-item:only-child::after {width: 0;}#sk-container-id-1 div.sk-dashed-wrapped {border: 1px dashed gray;margin: 0 0.4em 0.5em 0.4em;box-sizing: border-box;padding-bottom: 0.4em;background-color: white;}#sk-container-id-1 div.sk-label label {font-family: monospace;font-weight: bold;display: inline-block;line-height: 1.2em;}#sk-container-id-1 div.sk-label-container {text-align: center;}#sk-container-id-1 div.sk-container {/* jupyter's `normalize.less` sets `[hidden] { display: none; }` but bootstrap.min.css set `[hidden] { display: none !important; }` so we also need the `!important` here to be able to override the default hidden behavior on the sphinx rendered scikit-learn.org. See: https://github.com/scikit-learn/scikit-learn/issues/21755 */display: inline-block !important;position: relative;}#sk-container-id-1 div.sk-text-repr-fallback {display: none;}</style><div id=\"sk-container-id-1\" class=\"sk-top-container\"><div class=\"sk-text-repr-fallback\"><pre>GridSearchCV(estimator=KNeighborsClassifier(),\n",
              "             param_grid={&#x27;n_neighbors&#x27;: array([ 1,  2,  3,  4,  5,  6,  7,  8,  9, 10, 11, 12, 13, 14, 15, 16, 17,\n",
              "       18, 19, 20, 21, 22, 23, 24])})</pre><b>In a Jupyter environment, please rerun this cell to show the HTML representation or trust the notebook. <br />On GitHub, the HTML representation is unable to render, please try loading this page with nbviewer.org.</b></div><div class=\"sk-container\" hidden><div class=\"sk-item sk-dashed-wrapped\"><div class=\"sk-label-container\"><div class=\"sk-label sk-toggleable\"><input class=\"sk-toggleable__control sk-hidden--visually\" id=\"sk-estimator-id-1\" type=\"checkbox\" ><label for=\"sk-estimator-id-1\" class=\"sk-toggleable__label sk-toggleable__label-arrow\">GridSearchCV</label><div class=\"sk-toggleable__content\"><pre>GridSearchCV(estimator=KNeighborsClassifier(),\n",
              "             param_grid={&#x27;n_neighbors&#x27;: array([ 1,  2,  3,  4,  5,  6,  7,  8,  9, 10, 11, 12, 13, 14, 15, 16, 17,\n",
              "       18, 19, 20, 21, 22, 23, 24])})</pre></div></div></div><div class=\"sk-parallel\"><div class=\"sk-parallel-item\"><div class=\"sk-item\"><div class=\"sk-label-container\"><div class=\"sk-label sk-toggleable\"><input class=\"sk-toggleable__control sk-hidden--visually\" id=\"sk-estimator-id-2\" type=\"checkbox\" ><label for=\"sk-estimator-id-2\" class=\"sk-toggleable__label sk-toggleable__label-arrow\">estimator: KNeighborsClassifier</label><div class=\"sk-toggleable__content\"><pre>KNeighborsClassifier()</pre></div></div></div><div class=\"sk-serial\"><div class=\"sk-item\"><div class=\"sk-estimator sk-toggleable\"><input class=\"sk-toggleable__control sk-hidden--visually\" id=\"sk-estimator-id-3\" type=\"checkbox\" ><label for=\"sk-estimator-id-3\" class=\"sk-toggleable__label sk-toggleable__label-arrow\">KNeighborsClassifier</label><div class=\"sk-toggleable__content\"><pre>KNeighborsClassifier()</pre></div></div></div></div></div></div></div></div></div></div>"
            ]
          },
          "metadata": {},
          "execution_count": 35
        }
      ]
    },
    {
      "cell_type": "code",
      "source": [
        "grid.best_score_"
      ],
      "metadata": {
        "colab": {
          "base_uri": "https://localhost:8080/"
        },
        "id": "_S0Aksrni8UG",
        "outputId": "dd9b1108-2b9e-4816-f4ad-0d326e499768"
      },
      "execution_count": 36,
      "outputs": [
        {
          "output_type": "execute_result",
          "data": {
            "text/plain": [
              "0.95"
            ]
          },
          "metadata": {},
          "execution_count": 36
        }
      ]
    },
    {
      "cell_type": "code",
      "source": [
        "grid.best_params_"
      ],
      "metadata": {
        "colab": {
          "base_uri": "https://localhost:8080/"
        },
        "id": "VpXnyIWXi_ZD",
        "outputId": "5e2de722-4237-457c-c88e-525536b5a141"
      },
      "execution_count": 37,
      "outputs": [
        {
          "output_type": "execute_result",
          "data": {
            "text/plain": [
              "{'n_neighbors': 1}"
            ]
          },
          "metadata": {},
          "execution_count": 37
        }
      ]
    },
    {
      "cell_type": "markdown",
      "source": [
        "**So as we can see above from the GridSearchCV we have got the best accuracy score which is 95% and the best value of k is 1.**\n",
        "\n",
        "**Now lets use this values for our final model.**"
      ],
      "metadata": {
        "id": "RmqVjMZwjLh2"
      }
    },
    {
      "cell_type": "markdown",
      "source": [
        "# **Final Model**"
      ],
      "metadata": {
        "id": "5EW2M9-xjUwS"
      }
    },
    {
      "cell_type": "code",
      "source": [
        "final_knn = KNeighborsClassifier(n_neighbors=1)"
      ],
      "metadata": {
        "id": "8UORuxSVjCC8"
      },
      "execution_count": 38,
      "outputs": []
    },
    {
      "cell_type": "code",
      "source": [
        "final_knn.fit(X_train, y_train)\n",
        "final_y_pred_KNeighborsClassifier = final_knn.predict(X_test)"
      ],
      "metadata": {
        "id": "OlUT3jQ1jYvf"
      },
      "execution_count": 39,
      "outputs": []
    },
    {
      "cell_type": "code",
      "source": [
        "score1 = accuracy_score(final_y_pred_KNeighborsClassifier,y_test)\n",
        "score1"
      ],
      "metadata": {
        "colab": {
          "base_uri": "https://localhost:8080/"
        },
        "id": "8UqyW1GqjbTi",
        "outputId": "9abbc8a0-33b8-4c85-ce9a-b1e95a22bb72"
      },
      "execution_count": 40,
      "outputs": [
        {
          "output_type": "execute_result",
          "data": {
            "text/plain": [
              "1.0"
            ]
          },
          "metadata": {},
          "execution_count": 40
        }
      ]
    },
    {
      "cell_type": "code",
      "source": [
        "score_knn1=cross_val_score(final_knn, X,y, cv=10)\n",
        "score_knn1.mean()"
      ],
      "metadata": {
        "colab": {
          "base_uri": "https://localhost:8080/"
        },
        "id": "6bSGNCZmjeko",
        "outputId": "ef852fd4-dc33-465e-cfcd-2f99a6ba4f51"
      },
      "execution_count": 41,
      "outputs": [
        {
          "output_type": "execute_result",
          "data": {
            "text/plain": [
              "0.9800000000000001"
            ]
          },
          "metadata": {},
          "execution_count": 41
        }
      ]
    },
    {
      "cell_type": "markdown",
      "source": [
        "**So in our final model we hage got the best cross validation accuracy which is 98%**"
      ],
      "metadata": {
        "id": "jSr1iTQNjsFJ"
      }
    }
  ]
}